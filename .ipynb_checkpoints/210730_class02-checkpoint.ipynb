{
 "cells": [
  {
   "cell_type": "code",
   "execution_count": null,
   "id": "27c6e0e7-ed4d-460d-9fbf-ad5c26610c20",
   "metadata": {},
   "outputs": [],
   "source": [
    "#"
   ]
  },
  {
   "cell_type": "code",
   "execution_count": null,
   "id": "c2b40636-9f28-4e6f-bd40-1df1198556f8",
   "metadata": {},
   "outputs": [],
   "source": []
  },
  {
   "cell_type": "code",
   "execution_count": 11,
   "id": "289f9c5d-8a80-48b9-95f9-72e1ba4e9c36",
   "metadata": {},
   "outputs": [
    {
     "name": "stdout",
     "output_type": "stream",
     "text": [
      "2.6.0\n",
      "3.35.4\n"
     ]
    }
   ],
   "source": [
    "import sqlite3\n",
    "print(sqlite3.version)\n",
    "print(sqlite3.sqlite_version)"
   ]
  },
  {
   "cell_type": "code",
   "execution_count": 14,
   "id": "80831efa-2980-4483-94af-9698445e117a",
   "metadata": {},
   "outputs": [],
   "source": [
    "def create_table():\n",
    "    conn=sqlite3.connect('my_books.db') \n",
    "    # 데이터베이스 커넥션 생성\n",
    "    cursor=conn.cursor ()\n",
    "    # 커서 생성\n",
    "    # my_books db에 books 테이블 생성, 제목, 출판일자, 출판사, 페이지수, 추천여부\n",
    "    sql='''create table if not exists books(\n",
    "    title text,\n",
    "    published_date text,\n",
    "    publisher text,\n",
    "    pages integer,\n",
    "    recommend integer)'''\n",
    "    cursor.execute(sql)\n",
    "    conn.commit\n",
    "    conn.close"
   ]
  },
  {
   "cell_type": "code",
   "execution_count": 15,
   "id": "1f6c16d8-8131-41de-a199-b5f0f62df61d",
   "metadata": {},
   "outputs": [],
   "source": [
    "create_table()"
   ]
  },
  {
   "cell_type": "code",
   "execution_count": 36,
   "id": "42e5f4e5-ef95-4967-aadd-e7f902a7acb5",
   "metadata": {},
   "outputs": [],
   "source": [
    "def insert_books_args():\n",
    "    conn=sqlite3.connect('my_books.db') # 데이터베이스 커넥션 생성\n",
    "    cursor=conn.cursor() # 커서 생성\n",
    "    # sql = \"insert into books values('java', '2021-01-02', 길벗, 500, 10)\"\n",
    "    sql=\"insert into books values(?,?,?,?,?)\"\n",
    "    # cursor.execute(sql,('python','2021-02-01','한빛',550,20))\n",
    "#    items=[\n",
    "#        ('빅데이터','2020-12-01','영진',561,5),\n",
    "#        ('안드로이드','2020-12-01','한샘',600,5),\n",
    "#        ('Spring','2020-12-01','인피니티',561,5)\n",
    "#    ]\n",
    "    cursor.executemany(sql,data)\n",
    "    conn.commit()\n",
    "    conn.close()    "
   ]
  },
  {
   "cell_type": "code",
   "execution_count": 37,
   "id": "8e2ee7bc-fc21-49dd-96c9-e9336ece2599",
   "metadata": {},
   "outputs": [],
   "source": [
    "data=('jsp','2020-03-03','한빛',700,12)\n",
    "insert_books_args(data)"
   ]
  },
  {
   "cell_type": "code",
   "execution_count": 38,
   "id": "8909a4f0-183e-4ae9-89bc-b344885f1323",
   "metadata": {},
   "outputs": [],
   "source": [
    "def all_books():\n",
    "    conn=sqlite3.connect('my_books.db') # 데이터베이스 커넥션 생성\n",
    "    cursor=conn.cursor()\n",
    "    # 커서 생성\n",
    "    sql=\"select * from books\"\n",
    "    cursor.execute(sql)\n",
    "    books=cursor.fetchall()\n",
    "    print(type(books))\n",
    "    print(len(books))\n",
    "    \n",
    "    for book in books:\n",
    "        print(book)\n",
    "    conn.close()"
   ]
  },
  {
   "cell_type": "code",
   "execution_count": 39,
   "id": "526eacbd-6a1e-4f00-96e3-9fda3b6a8e5f",
   "metadata": {},
   "outputs": [
    {
     "name": "stdout",
     "output_type": "stream",
     "text": [
      "<class 'list'>\n",
      "6\n",
      "('python', '2021-02-01', '한빛', 550, 20)\n",
      "('java', '2021-01-02', '길벗', 500, 10)\n",
      "('python', '2021-02-01', '한빛', 550, 20)\n",
      "('빅데이터', '2020-12-01', '영진', 561, 5)\n",
      "('안드로이드', '2020-12-01', '한샘', 600, 5)\n",
      "('Spring', '2020-12-01', '인피니티', 561, 5)\n"
     ]
    }
   ],
   "source": [
    "all_books()"
   ]
  },
  {
   "cell_type": "code",
   "execution_count": 43,
   "id": "575a017a-9b61-4b92-ae8f-8a159fcea253",
   "metadata": {},
   "outputs": [
    {
     "name": "stdout",
     "output_type": "stream",
     "text": [
      "<class 'tuple'>\n",
      "5\n",
      "안드로이드\n",
      "2020-12-01\n",
      "한샘\n",
      "600\n",
      "5\n"
     ]
    }
   ],
   "source": [
    "def one_books():\n",
    "    conn=sqlite3.connect('my_books.db') # 데이터베이스 커넥션 생성\n",
    "    cursor=conn.cursor()\n",
    "    # 커서 생성\n",
    "    sql=\"select * from books order by title desc\"\n",
    "    cursor.execute(sql)\n",
    "    books=cursor.fetchone()\n",
    "    print(type(books))\n",
    "    print(len(books))\n",
    "    \n",
    "    for book in books:\n",
    "        print(book)\n",
    "    conn.close()\n",
    "    \n",
    "one_books()"
   ]
  },
  {
   "cell_type": "code",
   "execution_count": 44,
   "id": "dc127d8f-caec-456b-b5c1-aa8545b4ab09",
   "metadata": {},
   "outputs": [
    {
     "name": "stdout",
     "output_type": "stream",
     "text": [
      "<class 'list'>\n",
      "3\n",
      "('안드로이드', '2020-12-01', '한샘', 600, 5)\n",
      "('빅데이터', '2020-12-01', '영진', 561, 5)\n",
      "('python', '2021-02-01', '한빛', 550, 20)\n"
     ]
    }
   ],
   "source": [
    "def some_books(n):\n",
    "    conn=sqlite3.connect('my_books.db') # 데이터베이스 커넥션 생성\n",
    "    cursor=conn.cursor()\n",
    "    # 커서 생성\n",
    "    sql=\"select * from books order by title desc\"\n",
    "    cursor.execute(sql)\n",
    "    books=cursor.fetchmany(n)\n",
    "    print(type(books))\n",
    "    print(len(books))\n",
    "    \n",
    "    for book in books:\n",
    "        print(book)\n",
    "    conn.close()\n",
    "    \n",
    "some_books(3)"
   ]
  },
  {
   "cell_type": "code",
   "execution_count": 45,
   "id": "71e1247f-1292-4de8-8420-88b5e038a8d6",
   "metadata": {},
   "outputs": [
    {
     "name": "stdout",
     "output_type": "stream",
     "text": [
      "<class 'list'>\n",
      "3\n",
      "('Spring', '2020-12-01', '인피니티', 561, 5)\n",
      "('java', '2021-01-02', '길벗', 500, 10)\n",
      "('python', '2021-02-01', '한빛', 550, 20)\n"
     ]
    }
   ],
   "source": [
    "def some_books(n):\n",
    "    conn=sqlite3.connect('my_books.db') # 데이터베이스 커넥션 생성\n",
    "    cursor=conn.cursor()\n",
    "    # 커서 생성\n",
    "    sql=\"select * from books order by title\"\n",
    "    cursor.execute(sql)\n",
    "    books=cursor.fetchmany(n)\n",
    "    print(type(books))\n",
    "    print(len(books))\n",
    "    \n",
    "    for book in books:\n",
    "        print(book)\n",
    "    conn.close()\n",
    "    \n",
    "some_books(3)"
   ]
  },
  {
   "cell_type": "code",
   "execution_count": 56,
   "id": "a75cbf1b-8a06-49d6-bf42-12556849fe4d",
   "metadata": {},
   "outputs": [
    {
     "name": "stdout",
     "output_type": "stream",
     "text": [
      "('python', '2021-02-01', '한빛', 550, 20)\n",
      "('python', '2021-02-01', '한빛', 550, 20)\n"
     ]
    }
   ],
   "source": [
    "def search_books(n,r):\n",
    "    conn=sqlite3.connect('my_books.db') # 데이터베이스 커넥션 생성\n",
    "    cursor=conn.cursor()\n",
    "    # 커서 생성\n",
    "    #sql=\"select * from books where pages>\"+str(n)\n",
    "    sql=\"select * from books where pages>? and recommend>?\"\n",
    "    cursor.execute(sql,(n,r))\n",
    "    books=cursor.fetchall()\n",
    "    \n",
    "    for book in books:\n",
    "        print(book)\n",
    "    conn.close()\n",
    "    \n",
    "search_books(500, 10)"
   ]
  },
  {
   "cell_type": "code",
   "execution_count": 59,
   "id": "c170c94c-e8be-4aea-81be-96d63bddc1dc",
   "metadata": {},
   "outputs": [
    {
     "name": "stdout",
     "output_type": "stream",
     "text": [
      "<class 'list'>\n",
      "6\n",
      "('python', '2021-02-01', '한빛', 550, 20)\n",
      "('java', '2021-01-02', '길벗', 500, 10)\n",
      "('python', '2021-02-01', '한빛', 550, 20)\n",
      "('빅데이터', '2020-12-01', '영진', 561, 5)\n",
      "('안드로이드', '2020-12-01', '한샘', 600, 5)\n",
      "('Spring', '2020-12-01', '인피니티', 561, 5)\n",
      "<class 'list'>\n",
      "6\n",
      "('python', '2021-02-01', '한빛', 550, 20)\n",
      "('java', '2021-01-02', '길벗', 500, 10)\n",
      "('python', '2021-02-01', '한빛', 550, 20)\n",
      "('빅데이터', '2020-12-01', '영진', 561, 5)\n",
      "('안드로이드', '2020-12-01', '한샘', 600, 5)\n",
      "('Spring', '2020-12-01', '인피니티', 561, 5)\n"
     ]
    }
   ],
   "source": [
    "def update_books(data):\n",
    "    conn=sqlite3.connect('my_books.db')\n",
    "    cursor=conn.cursor()\n",
    "    sql=\"update books set recommend=?, pages=? where title=?\"\n",
    "    cursor.execute(sql, data)\n",
    "    conn.commit()\n",
    "    conn.close()\n",
    "\n",
    "all_books()\n",
    "data=(30, 700, 'Java')\n",
    "update_books(data)\n",
    "all_books()"
   ]
  },
  {
   "cell_type": "code",
   "execution_count": 65,
   "id": "ededc5f0-50c3-4e4e-bf84-cb978db31d91",
   "metadata": {},
   "outputs": [
    {
     "name": "stdout",
     "output_type": "stream",
     "text": [
      "<class 'list'>\n",
      "6\n",
      "('python', '2021-02-01', '한빛', 550, 20)\n",
      "('java', '2021-01-02', '길벗', 500, 10)\n",
      "('python', '2021-02-01', '한빛', 550, 20)\n",
      "('빅데이터', '2020-12-01', '영진', 561, 5)\n",
      "('안드로이드', '2020-12-01', '한샘', 600, 5)\n",
      "('Spring', '2020-12-01', '인피니티', 561, 5)\n",
      "<class 'list'>\n",
      "5\n",
      "('python', '2021-02-01', '한빛', 550, 20)\n",
      "('python', '2021-02-01', '한빛', 550, 20)\n",
      "('빅데이터', '2020-12-01', '영진', 561, 5)\n",
      "('안드로이드', '2020-12-01', '한샘', 600, 5)\n",
      "('Spring', '2020-12-01', '인피니티', 561, 5)\n"
     ]
    }
   ],
   "source": [
    "def delete_books():\n",
    "    conn=sqlite3.connect('my_books.db')\n",
    "    cursor=conn.cursor()\n",
    "    sql=\"delete from books where title='java'\"\n",
    "    cursor.execute(sql)\n",
    "    conn.commit()\n",
    "    conn.close()\n",
    "all_books()\n",
    "delete_books()\n",
    "all_books()"
   ]
  },
  {
   "cell_type": "code",
   "execution_count": 66,
   "id": "f0ccda17-e05e-4cc2-afc6-41cfac544c54",
   "metadata": {},
   "outputs": [],
   "source": [
    "import cx_Oracle"
   ]
  },
  {
   "cell_type": "code",
   "execution_count": 70,
   "id": "4db9bbf6-96fc-419c-88f9-53171d790305",
   "metadata": {},
   "outputs": [],
   "source": [
    "def insert_product():\n",
    "    conn=cx_Oracle.connect(\"system/1234@localhost:1521/xe\")\n",
    "    cursor=conn.cursor()\n",
    "    sql=\"insert into product values(:1,:2,:3,:4,:5)\"\n",
    "    data=(1, '레몬', 150, '레몬에 포함된 구연산은 피로회복에 좋습니다.', 'lemon.jpg')\n",
    "    cursor.execute(sql,data)\n",
    "    conn.commit()\n",
    "    conn.close()\n",
    "insert_product()"
   ]
  },
  {
   "cell_type": "code",
   "execution_count": null,
   "id": "707e3b0c-154f-450d-8f06-8493a60c6804",
   "metadata": {},
   "outputs": [],
   "source": []
  },
  {
   "cell_type": "code",
   "execution_count": null,
   "id": "d6db8f55-6905-480e-b2a1-93cf044310e9",
   "metadata": {},
   "outputs": [],
   "source": []
  },
  {
   "cell_type": "code",
   "execution_count": null,
   "id": "63891917-df8a-44d0-85dc-860b181788fd",
   "metadata": {},
   "outputs": [],
   "source": []
  }
 ],
 "metadata": {
  "kernelspec": {
   "display_name": "Python 3",
   "language": "python",
   "name": "python3"
  },
  "language_info": {
   "codemirror_mode": {
    "name": "ipython",
    "version": 3
   },
   "file_extension": ".py",
   "mimetype": "text/x-python",
   "name": "python",
   "nbconvert_exporter": "python",
   "pygments_lexer": "ipython3",
   "version": "3.8.8"
  }
 },
 "nbformat": 4,
 "nbformat_minor": 5
}
