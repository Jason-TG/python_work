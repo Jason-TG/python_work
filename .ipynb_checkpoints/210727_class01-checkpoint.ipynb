{
 "cells": [
  {
   "cell_type": "code",
   "execution_count": 5,
   "id": "4dfc6a3a-00e5-400c-8cd7-4e99c763e23f",
   "metadata": {},
   "outputs": [],
   "source": [
    "a=[1,2,3,4,5]\n",
    "a.append(10)\n",
    "a.append(20)"
   ]
  },
  {
   "cell_type": "code",
   "execution_count": 2,
   "id": "4e05b732-7003-47c2-a3d9-441a84722b5d",
   "metadata": {},
   "outputs": [
    {
     "name": "stdout",
     "output_type": "stream",
     "text": [
      "[1, 2, 3, 4, 5, 10, 20]\n"
     ]
    }
   ],
   "source": [
    "print(a)"
   ]
  },
  {
   "cell_type": "code",
   "execution_count": 6,
   "id": "b0890ae0-220b-4e2a-b34b-ce7d90aec491",
   "metadata": {},
   "outputs": [
    {
     "name": "stdout",
     "output_type": "stream",
     "text": [
      "20\n",
      "[1, 2, 3, 4, 5, 10]\n"
     ]
    }
   ],
   "source": [
    "print(a.pop())\n",
    "print(a)"
   ]
  },
  {
   "cell_type": "code",
   "execution_count": 7,
   "id": "260e658b-8434-4f78-a389-f1fbb5c0a34d",
   "metadata": {},
   "outputs": [
    {
     "name": "stdout",
     "output_type": "stream",
     "text": [
      "1\n",
      "[2, 3, 4, 5, 10]\n"
     ]
    }
   ],
   "source": [
    "print(a.pop(0))\n",
    "print(a)"
   ]
  },
  {
   "cell_type": "code",
   "execution_count": 9,
   "id": "2dd7f70d-2c00-4233-8f1b-9be887e81cfc",
   "metadata": {},
   "outputs": [
    {
     "name": "stdout",
     "output_type": "stream",
     "text": [
      "{1, 2, 3, 4, 5}\n",
      "{1, 2, 3, 4, 5, 10}\n"
     ]
    }
   ],
   "source": [
    "s=set([1,2,3,4,1,2,3,4,5])\n",
    "print(s)\n",
    "s.add(10)\n",
    "print(s)"
   ]
  },
  {
   "cell_type": "code",
   "execution_count": 15,
   "id": "ca0f1c7f-6a32-4770-be0c-90cd63f36b05",
   "metadata": {},
   "outputs": [
    {
     "name": "stdout",
     "output_type": "stream",
     "text": [
      "deque([4, 3, 2, 1, 0, 0, 1, 2, 3, 4])\n"
     ]
    }
   ],
   "source": [
    "from collections import deque\n",
    "deque_list=deque()\n",
    "\n",
    "for i in range(5):\n",
    "    deque_list.append(i)\n",
    "    \n",
    "print(deque_list)"
   ]
  },
  {
   "cell_type": "code",
   "execution_count": 20,
   "id": "b8f72c67-4c12-4381-bdbd-697a1d30a860",
   "metadata": {},
   "outputs": [
    {
     "name": "stdout",
     "output_type": "stream",
     "text": [
      "deque([3, 2, 1, 0, 4])\n"
     ]
    }
   ],
   "source": [
    "print(deque(reversed(deque_list)))"
   ]
  },
  {
   "cell_type": "code",
   "execution_count": null,
   "id": "49da87d9-e8c0-4233-aa0a-6e1b0dc94f68",
   "metadata": {},
   "outputs": [],
   "source": [
    "deque "
   ]
  },
  {
   "cell_type": "code",
   "execution_count": null,
   "id": "809dd3a4-f3f1-47f0-922e-f8d9ff827c94",
   "metadata": {},
   "outputs": [],
   "source": []
  },
  {
   "cell_type": "code",
   "execution_count": 12,
   "id": "3fef6196-4338-4538-bd56-564f4a25dbba",
   "metadata": {},
   "outputs": [
    {
     "name": "stdout",
     "output_type": "stream",
     "text": [
      "4\n",
      "deque([0, 1, 2, 3])\n"
     ]
    }
   ],
   "source": [
    "print(deque_list.pop())\n",
    "print(deque_list)"
   ]
  },
  {
   "cell_type": "code",
   "execution_count": 16,
   "id": "cb264633-5f4c-4831-8880-f83537531867",
   "metadata": {},
   "outputs": [
    {
     "name": "stdout",
     "output_type": "stream",
     "text": [
      "deque([0, 1, 2, 3, 4])\n"
     ]
    }
   ],
   "source": [
    "from collections import deque\n",
    "deque_list=deque()\n",
    "\n",
    "for i in range(5):\n",
    "    deque_list.append(i)\n",
    "\n",
    "print(deque_list)"
   ]
  },
  {
   "cell_type": "code",
   "execution_count": 19,
   "id": "b61748af-6f54-4849-b6d1-254a56de36ba",
   "metadata": {},
   "outputs": [
    {
     "name": "stdout",
     "output_type": "stream",
     "text": [
      "deque([4, 0, 1, 2, 3])\n"
     ]
    }
   ],
   "source": [
    "def sort b sort+key(T):\n",
    "        return t[0]"
   ]
  },
  {
   "cell_type": "raw",
   "id": "98ac52ef-eccf-475f-b824-3d89d07bce31",
   "metadata": {},
   "source": [
    "from collections import Order 5"
   ]
  },
  {
   "cell_type": "code",
   "execution_count": 22,
   "id": "784e4930-58f4-45ab-adb0-65e1d84025a7",
   "metadata": {},
   "outputs": [
    {
     "ename": "SyntaxError",
     "evalue": "invalid syntax (<ipython-input-22-94795f2ba725>, line 5)",
     "output_type": "error",
     "traceback": [
      "\u001b[1;36m  File \u001b[1;32m\"<ipython-input-22-94795f2ba725>\"\u001b[1;36m, line \u001b[1;32m5\u001b[0m\n\u001b[1;33m    def sort_by(t)\u001b[0m\n\u001b[1;37m                  ^\u001b[0m\n\u001b[1;31mSyntaxError\u001b[0m\u001b[1;31m:\u001b[0m invalid syntax\n"
     ]
    }
   ],
   "source": [
    "score['홍길동='] = 87\n",
    "score['박정희'] = 88\n",
    "print(score)\n",
    "\n",
    "def sort_by(t)"
   ]
  },
  {
   "cell_type": "code",
   "execution_count": 23,
   "id": "26033757-ef5b-4830-9276-1e5c0b62333d",
   "metadata": {},
   "outputs": [
    {
     "name": "stdout",
     "output_type": "stream",
     "text": [
      "Student(name='홍길동', sno=10, major='컴공')\n"
     ]
    }
   ],
   "source": [
    "from collections import namedtuple\n",
    "Student=namedtuple('Student', ['name','sno','major'])\n",
    "s1=Student('홍길동', 10, '컴공')\n",
    "print(s1)\n",
    "print(s1.name, s1.sno, s1.major)"
   ]
  },
  {
   "cell_type": "code",
   "execution_count": 24,
   "id": "6e7c5a04-9afc-4bb2-84b1-4ea035d11235",
   "metadata": {},
   "outputs": [
    {
     "name": "stdout",
     "output_type": "stream",
     "text": [
      "red green blue yellow \n"
     ]
    }
   ],
   "source": [
    "colors=['red','green','blue','yellow']\n",
    "result=''\n",
    "for s in colors:\n",
    "    result+=s+\" \"\n",
    "\n",
    "print(result)"
   ]
  },
  {
   "cell_type": "code",
   "execution_count": 26,
   "id": "4bea24b2-3b44-4c2f-a2d9-b6091fd814ed",
   "metadata": {
    "tags": []
   },
   "outputs": [
    {
     "name": "stdout",
     "output_type": "stream",
     "text": [
      "red green blue yellow\n"
     ]
    }
   ],
   "source": [
    "result=' '.join(colors)\n",
    "print(result)"
   ]
  },
  {
   "cell_type": "code",
   "execution_count": 27,
   "id": "2fea3627-a547-49e0-b13d-05c79e49e7ac",
   "metadata": {},
   "outputs": [
    {
     "name": "stdout",
     "output_type": "stream",
     "text": [
      "['red', 'green', 'blue', 'yellow']\n"
     ]
    }
   ],
   "source": [
    "color_list=result.split()\n",
    "print(color_list)"
   ]
  },
  {
   "cell_type": "code",
   "execution_count": 28,
   "id": "d07970c2-c354-4e69-9135-a53d7a8c1f12",
   "metadata": {},
   "outputs": [
    {
     "name": "stdout",
     "output_type": "stream",
     "text": [
      "red-green-blue-yellow\n",
      "['red', 'green', 'blue', 'yellow']\n"
     ]
    }
   ],
   "source": [
    "result='-'.join(colors)\n",
    "print(result)\n",
    "color_list=result.split(\"-\")\n",
    "print(color_list)"
   ]
  },
  {
   "cell_type": "code",
   "execution_count": 32,
   "id": "1c9af680-e538-468b-b577-0f6b79477ab3",
   "metadata": {},
   "outputs": [
    {
     "name": "stdout",
     "output_type": "stream",
     "text": [
      "[0, 1, 2, 3, 4, 5, 6, 7, 8, 9]\n",
      "\n",
      "[0, 2, 4, 6, 8]\n",
      "\n",
      "[0, 1, 0, 3, 0, 5, 0, 7, 0, 9]\n"
     ]
    }
   ],
   "source": [
    "result=[i for i in range(10)]\n",
    "print(result)\n",
    "print()\n",
    "\n",
    "result1=[i for i in range(10) if i%2==0]\n",
    "print(result1)\n",
    "print()\n",
    "\n",
    "result=[i if i%2==1 else 0 for i in range(10)]\n",
    "print(result)"
   ]
  },
  {
   "cell_type": "code",
   "execution_count": 38,
   "id": "3e2c1645-cf9d-4e23-943e-d1e373c8aea3",
   "metadata": {},
   "outputs": [
    {
     "name": "stdout",
     "output_type": "stream",
     "text": [
      "['HW', 'Ho', 'Hr', 'Hl', 'Hd', 'eW', 'eo', 'er', 'el', 'ed', 'lW', 'lo', 'lr', 'll', 'ld', 'lW', 'lo', 'lr', 'll', 'ld', 'oW', 'oo', 'or', 'ol', 'od']\n",
      "['HW', 'Ho', 'Hr', 'Hl', 'Hd', 'eW', 'eo', 'er', 'el', 'ed', 'lW', 'lo', 'lr', 'll', 'ld', 'lW', 'lo', 'lr', 'll', 'ld', 'oW', 'oo', 'or', 'ol', 'od']\n"
     ]
    }
   ],
   "source": [
    "word_1=\"Hello\"\n",
    "word_2=\"World\"\n",
    "result5=[i+j for i in word_1 for j in word_2]\n",
    "print(result5)\n",
    "\n",
    "result7=[]\n",
    "for i in word_1:\n",
    "    for j in word_2:\n",
    "        result7.append(i+j);\n",
    "print(result7)"
   ]
  },
  {
   "cell_type": "code",
   "execution_count": 42,
   "id": "a8fc0a40-4791-4b02-be84-c4a76f35c0e1",
   "metadata": {},
   "outputs": [
    {
     "name": "stdout",
     "output_type": "stream",
     "text": [
      "['HW', 'Ho', 'Hr', 'Hl', 'Hd', 'eW', 'eo', 'er', 'el', 'ed', 'lW', 'lo', 'lr', 'ld', 'lW', 'lo', 'lr', 'ld', 'oW', 'or', 'ol', 'od']\n",
      "\n",
      "['HW', 'Ho', 'Hr', 'Hl', 'Hd', 'eW', 'eo', 'er', 'el', 'ed', 'lW', 'lo', 'lr', 'ld', 'lW', 'lo', 'lr', 'ld', 'oW', 'or', 'ol', 'od']\n"
     ]
    }
   ],
   "source": [
    "result=[i+j for i in word_1 for j in word_2 if not(i==j)]\n",
    "print(result)\n",
    "print()\n",
    "\n",
    "result9=[i+j for i in word_1 for j in word_2 if (i!=j)]\n",
    "print(result9)"
   ]
  },
  {
   "cell_type": "code",
   "execution_count": 45,
   "id": "eb66a441-8f93-4d08-88ef-0b0c170037aa",
   "metadata": {},
   "outputs": [
    {
     "name": "stdout",
     "output_type": "stream",
     "text": [
      "['the', 'quick', 'brown', 'fox', 'jumps']\n",
      "\n",
      "[['THE', 'the', 3], ['QUICK', 'quick', 5], ['BROWN', 'brown', 5], ['FOX', 'fox', 3], ['JUMPS', 'jumps', 5]]\n"
     ]
    }
   ],
   "source": [
    "words='the quick brown fox jumps'.split()\n",
    "print(words)\n",
    "result=[[] for w in words]\n",
    "print()\n",
    "\n",
    "result=[[w.upper(), w.lower(), len(w)] for w in words]\n",
    "print(result)"
   ]
  },
  {
   "cell_type": "code",
   "execution_count": 52,
   "id": "7c793bc8-d8f8-4a7b-b5bc-1bce803a06ae",
   "metadata": {},
   "outputs": [
    {
     "name": "stdout",
     "output_type": "stream",
     "text": [
      "[[10, 11, 12], [20, 21, 22], [30, 31, 32], [40, 41, 42], [50, 51, 52]]\n"
     ]
    }
   ],
   "source": [
    "result=[[i+j for j in range(3)] for i in range(10,60,10)]\n",
    "print(result)"
   ]
  },
  {
   "cell_type": "code",
   "execution_count": 63,
   "id": "0f0c7d9b-454b-4695-9fac-47d7ccc0aee3",
   "metadata": {},
   "outputs": [
    {
     "name": "stdout",
     "output_type": "stream",
     "text": [
      "<zip object at 0x000002219D677F80>\n",
      "(1, 10, 100)\n",
      "(2, 20, 200)\n",
      "(3, 30, 300)\n",
      "(4, 40, 400)\n",
      "\n",
      "111\n",
      "222\n",
      "333\n",
      "444\n"
     ]
    }
   ],
   "source": [
    "alist=[1,2,3,4]\n",
    "blist=[10,20,30,40]\n",
    "bbList=[100, 200, 300, 400]\n",
    "clist=zip(alist, blist, bbList)\n",
    "print(clist)\n",
    "\n",
    "for i in clist:\n",
    "    print(i)\n",
    "print()\n",
    "\n",
    "dlist=zip(alist, blist, bbList)\n",
    "for j in dlist:\n",
    "    print(sum(j))"
   ]
  },
  {
   "cell_type": "code",
   "execution_count": 64,
   "id": "8050e226-831e-4709-9165-5df0d98b845d",
   "metadata": {},
   "outputs": [
    {
     "name": "stdout",
     "output_type": "stream",
     "text": [
      "<zip object at 0x000002219D670C00>\n",
      "(1, 10, 100) 111 37.0\n",
      "(2, 20, 200) 222 74.0\n",
      "(3, 30, 300) 333 111.0\n",
      "(4, 40, 400) 444 148.0\n"
     ]
    }
   ],
   "source": [
    "a=[[1,2,3,4,], [10,20,30,40], [100,200,300,400]]\n",
    "a1=zip(a[0],a[1],a[2])\n",
    "print(a1)\n",
    "for i in a1:\n",
    "    print(i, sum(i), sum(i)/3)"
   ]
  },
  {
   "cell_type": "code",
   "execution_count": 66,
   "id": "9b6f5c34-bf49-4bbd-a981-1e9fd5b39de8",
   "metadata": {},
   "outputs": [],
   "source": [
    "def f(x,y):\n",
    "    return x+y"
   ]
  },
  {
   "cell_type": "code",
   "execution_count": 67,
   "id": "cb28da24-e5f8-438e-aeaf-15207ce46101",
   "metadata": {},
   "outputs": [
    {
     "name": "stdout",
     "output_type": "stream",
     "text": [
      "5\n"
     ]
    }
   ],
   "source": [
    "print(f(1,4))"
   ]
  },
  {
   "cell_type": "code",
   "execution_count": 69,
   "id": "e386112d-3553-4fc5-ad21-53047e002178",
   "metadata": {},
   "outputs": [
    {
     "name": "stdout",
     "output_type": "stream",
     "text": [
      "5\n"
     ]
    }
   ],
   "source": [
    "f=lambda x,y:x+y\n",
    "print(f(1,4))"
   ]
  },
  {
   "cell_type": "code",
   "execution_count": 70,
   "id": "28c68c8d-770e-4e4c-b67e-18ca68750f49",
   "metadata": {},
   "outputs": [
    {
     "name": "stdout",
     "output_type": "stream",
     "text": [
      "5\n"
     ]
    }
   ],
   "source": [
    "print((lambda x,y : x+y)(1,4))"
   ]
  },
  {
   "cell_type": "code",
   "execution_count": 71,
   "id": "f57bfc66-0036-4928-8905-7b4aa8e50f16",
   "metadata": {},
   "outputs": [
    {
     "name": "stdout",
     "output_type": "stream",
     "text": [
      "25\n"
     ]
    }
   ],
   "source": [
    "print((lambda x : x**2)(5))"
   ]
  }
 ],
 "metadata": {
  "kernelspec": {
   "display_name": "Python 3",
   "language": "python",
   "name": "python3"
  },
  "language_info": {
   "codemirror_mode": {
    "name": "ipython",
    "version": 3
   },
   "file_extension": ".py",
   "mimetype": "text/x-python",
   "name": "python",
   "nbconvert_exporter": "python",
   "pygments_lexer": "ipython3",
   "version": "3.8.8"
  }
 },
 "nbformat": 4,
 "nbformat_minor": 5
}
