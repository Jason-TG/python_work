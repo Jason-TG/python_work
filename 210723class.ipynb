{
 "cells": [
  {
   "cell_type": "code",
   "execution_count": 2,
   "id": "f111c72d-9242-43c0-8507-13abee362773",
   "metadata": {},
   "outputs": [
    {
     "name": "stdout",
     "output_type": "stream",
     "text": [
      "a=10, b=5, a+b=15\n",
      "a={0}, b={1}, a+b={2}.format(a, b, a+b)\n",
      "a+b={2}, b={1}, a={0}.format(a, b, a+b)\n"
     ]
    }
   ],
   "source": [
    "a=10\n",
    "b=5\n",
    "print(\"a=%d, b=%d, a+b=%d\" %(a, b, a+b))\n",
    "print(\"a={0}, b={1}, a+b={2}.format(a, b, a+b)\")\n",
    "print(\"a+b={2}, b={1}, a={0}.format(a, b, a+b)\")"
   ]
  },
  {
   "cell_type": "code",
   "execution_count": 3,
   "id": "d1873bd9-981f-4506-9a9c-97c6e3c63d43",
   "metadata": {},
   "outputs": [
    {
     "name": "stdout",
     "output_type": "stream",
     "text": [
      "이름을 입력하세요:\n"
     ]
    },
    {
     "name": "stdin",
     "output_type": "stream",
     "text": [
      " 홍길동\n"
     ]
    },
    {
     "name": "stdout",
     "output_type": "stream",
     "text": [
      "안녕 홍길동 반갑습니다.\n"
     ]
    }
   ],
   "source": [
    "print(\"이름을 입력하세요:\")\n",
    "name=input()\n",
    "print(\"안녕\", name, \"반갑습니다.\")"
   ]
  },
  {
   "cell_type": "code",
   "execution_count": 4,
   "id": "3dcfbe69-fe10-4f5c-a5ae-2523b17a195b",
   "metadata": {},
   "outputs": [
    {
     "name": "stdin",
     "output_type": "stream",
     "text": [
      "이름 입력란: 박지민\n"
     ]
    },
    {
     "name": "stdout",
     "output_type": "stream",
     "text": [
      "안녕 박지민 반갑습니다.\n"
     ]
    }
   ],
   "source": [
    "name=input(\"이름 입력란:\")\n",
    "print(\"안녕 %s 반갑습니다.\" %name)"
   ]
  },
  {
   "cell_type": "code",
   "execution_count": 5,
   "id": "bfe4dab5-d7ba-4d99-bdb6-f42fa654bd96",
   "metadata": {},
   "outputs": [
    {
     "name": "stdout",
     "output_type": "stream",
     "text": [
      "변환하고 싶은 섭씨온도를 입력하세요\n"
     ]
    },
    {
     "name": "stdin",
     "output_type": "stream",
     "text": [
      " 345\n"
     ]
    },
    {
     "name": "stdout",
     "output_type": "stream",
     "text": [
      "섭씨온도 : 345.0\n",
      "화씨온도 : 653.0\n"
     ]
    }
   ],
   "source": [
    "print(\"변환하고 싶은 섭씨온도를 입력하세요\")\n",
    "t=float(input())\n",
    "f=(t*1.8) +32\n",
    "print(\"섭씨온도 :\", t)\n",
    "print(\"화씨온도 :\", f)"
   ]
  },
  {
   "cell_type": "code",
   "execution_count": 15,
   "id": "1e1bdbf7-30c1-4a5b-a57b-84156b4bbfef",
   "metadata": {},
   "outputs": [
    {
     "name": "stdout",
     "output_type": "stream",
     "text": [
      "[1, 2, 3, 4, 5, 6]\n",
      "[1, 3, 5]\n",
      "[1, 3, 5]\n",
      "[1, 2, 3, 4, 5, 6, 7, 8, 9, 10]\n",
      "[10, 9, 8, 7, 6, 5, 4, 3, 2, 1]\n",
      "[6, 7, 8, 9, 10]\n",
      "[1, 2, 3, 4, 5, 6, 7, 8, 9, 10]\n"
     ]
    }
   ],
   "source": [
    "a=[1, 2, 3, 4, 5, 6, 7, 8, 9, 10]\n",
    "print(a[0:6])\n",
    "print(a[0:6:2])\n",
    "print(a[:6:2])\n",
    "print(a[::])\n",
    "print(a[::-1])\n",
    "print(a[-5:])\n",
    "print(a[:])"
   ]
  },
  {
   "cell_type": "code",
   "execution_count": 33,
   "id": "ef4c469e-85f6-4c11-a4df-5e7ba924e30a",
   "metadata": {},
   "outputs": [
    {
     "name": "stdout",
     "output_type": "stream",
     "text": [
      "['가', '나', '다', 'a', 'a', 'b', 'c']\n",
      "['가', '나', '다', 'a', '가', '나', '다', 'a']\n",
      "True\n",
      "False\n",
      "['가', '나', '다', 'a', '라']\n",
      "['가', '나', '다', 'a', '라', 'a', 'b', 'c']\n",
      "['가', '나', '다', 'a', '라', 'a', 'b', 'c', '가', '나', '다', 'a', '라', 'a', 'b', 'c']\n",
      "True\n",
      "True\n",
      "['가', '나', '다', 'a', '라', 'a', 'b', 'c', '라']\n",
      "['가', '나', '다', 'a', '라', 'a', 'b', 'c', '라', '자바', '파이썬']\n",
      "['가', 'red', '나', '다', 'a', '라', 'a', 'b', 'c', '라', '자바', '파이썬']\n",
      "['가', 'blue', '나', '다', 'a', '라', 'a', 'b', 'c', '라', '자바', '파이썬']\n",
      "['blue', '나', '다', 'a', '라', 'a', 'b', 'c', '라', '자바', '파이썬']\n",
      "['blue', '다', 'a', '라', 'a', 'b', 'c', '라', '자바', '파이썬']\n",
      "['blue', '다', 'a', '라', 'a', 'b', 'c', '라', '자바', '파이썬', '다']\n",
      "['blue', 'a', '라', 'a', 'b', 'c', '라', '자바', '파이썬', '다']\n",
      "['blue', 'a', '라', 'a', 'b', 'c', '라', '자바', '파이썬']\n"
     ]
    }
   ],
   "source": [
    "a=['가', '나', '다', 'a']\n",
    "b=['a', 'b', 'c']\n",
    "c=a+b\n",
    "print(c)\n",
    "print(a*2)\n",
    "print('나' in a)\n",
    "print(\"마\" in a)\n",
    "# 배열 내 항목 존재 여부 \n",
    "\n",
    "a.extend(b)\n",
    "a.append('라')\n",
    "print(a)\n",
    "a.extend(['자바', '파이썬'])\n",
    "print(a)\n",
    "a.insert(1, \"red\")\n",
    "print(a)\n",
    "a[1]=\"blue\"\n",
    "print(a)\n",
    "del a[0]\n",
    "print(a)\n",
    "a.remove('나')\n",
    "print(a)\n",
    "a.append('다')\n",
    "print(a)\n",
    "a.remove('다')\n",
    "print(a)\n",
    "a.remove('다')\n",
    "print(a)"
   ]
  },
  {
   "cell_type": "code",
   "execution_count": 34,
   "id": "c51556f2-3896-45b9-9f83-2c2466c36c25",
   "metadata": {},
   "outputs": [
    {
     "data": {
      "text/plain": [
       "['blue', 'a', '라', 'a', 'b', 'c', '라', '자바', '파이썬']"
      ]
     },
     "execution_count": 34,
     "metadata": {},
     "output_type": "execute_result"
    }
   ],
   "source": [
    "a"
   ]
  },
  {
   "cell_type": "code",
   "execution_count": 36,
   "id": "53ac7e83-948d-492f-b352-70184c4757a7",
   "metadata": {},
   "outputs": [
    {
     "name": "stdout",
     "output_type": "stream",
     "text": [
      "1 2 3 [1, 2, 3]\n"
     ]
    }
   ],
   "source": [
    "t=[1, 2, 3]\n",
    "a, b, c = t\n",
    "print(a, b, c, t)"
   ]
  },
  {
   "cell_type": "code",
   "execution_count": 39,
   "id": "1725dfd5-a2b7-4337-bea1-c297f58f5f31",
   "metadata": {},
   "outputs": [
    {
     "name": "stdout",
     "output_type": "stream",
     "text": [
      "[[40, 50, 65, 55, 80], [75, 85, 80, 90, 95], [65, 60, 70, 75, 85]]\n",
      "80\n"
     ]
    }
   ],
   "source": [
    "k=[40, 50, 65, 55, 80]\n",
    "m=[75, 85, 80, 90, 95]\n",
    "e=[65, 60, 70, 75, 85]\n",
    "mid=[k, m, e]\n",
    "print(mid)\n",
    "\n",
    "print(mid[1][2])"
   ]
  },
  {
   "cell_type": "code",
   "execution_count": 40,
   "id": "ba0360fb-4efe-4c2c-acd2-25e1c15ac684",
   "metadata": {},
   "outputs": [
    {
     "name": "stdout",
     "output_type": "stream",
     "text": [
      "[[40, 50, 65, 55, 80], [75, 1000, 80, 90, 95], [65, 60, 70, 75, 85]]\n"
     ]
    }
   ],
   "source": [
    "m[1]=1000\n",
    "print(mid)\n",
    "mid[][]"
   ]
  },
  {
   "cell_type": "code",
   "execution_count": 41,
   "id": "5f9751e3-d1ad-4ef5-95fc-4f047d197bdf",
   "metadata": {},
   "outputs": [
    {
     "name": "stdout",
     "output_type": "stream",
     "text": [
      "[[40, 50, 65, 55, '홍길동'], [75, 1000, 80, 90, 95], [65, 60, 70, 75, 85]]\n"
     ]
    }
   ],
   "source": [
    "k[4]='홍길동'\n",
    "print(mid)"
   ]
  },
  {
   "cell_type": "code",
   "execution_count": 42,
   "id": "738218ea-82f7-4fd6-bc7d-1c79671eab08",
   "metadata": {},
   "outputs": [
    {
     "name": "stdout",
     "output_type": "stream",
     "text": [
      "True\n"
     ]
    }
   ],
   "source": [
    "a=300\n",
    "b=300\n",
    "print(a==b)\n",
    "print(a is b)"
   ]
  },
  {
   "cell_type": "code",
   "execution_count": 44,
   "id": "1abbfd2f-5a4d-49b0-9945-fa081ce4206e",
   "metadata": {},
   "outputs": [
    {
     "name": "stdout",
     "output_type": "stream",
     "text": [
      "True\n",
      "True\n"
     ]
    }
   ],
   "source": [
    "a=1\n",
    "b=1\n",
    "print(a==b)\n",
    "print(a is b)"
   ]
  },
  {
   "cell_type": "code",
   "execution_count": 61,
   "id": "baefe76c-7756-438f-ad3b-4a1e52696291",
   "metadata": {},
   "outputs": [
    {
     "name": "stdout",
     "output_type": "stream",
     "text": [
      "홀수 짝수 구분하기~\n"
     ]
    },
    {
     "name": "stdin",
     "output_type": "stream",
     "text": [
      "숫자를 입력하세요 0\n"
     ]
    },
    {
     "name": "stdout",
     "output_type": "stream",
     "text": [
      "0은.. 0입니다.\n"
     ]
    }
   ],
   "source": [
    "print(\"홀수 짝수 구분하기~\")\n",
    "number=int(input(\"숫자를 입력하세요\"))\n",
    "\n",
    "if number==0:\n",
    "    print(\"0은.. 0입니다.\")\n",
    "    \n",
    "elif number%2==0:\n",
    "    print(\"짝수입니다.\")\n",
    "    \n",
    "else:\n",
    "    print(\"홀수입니다.\")"
   ]
  },
  {
   "cell_type": "code",
   "execution_count": 49,
   "id": "645db259-c90d-45fe-a7d4-d465a6c73d72",
   "metadata": {},
   "outputs": [
    {
     "name": "stdout",
     "output_type": "stream",
     "text": [
      "홀수 짝수 구분하기~\n"
     ]
    },
    {
     "name": "stdin",
     "output_type": "stream",
     "text": [
      "숫자를 입력하세요 34\n"
     ]
    },
    {
     "name": "stdout",
     "output_type": "stream",
     "text": [
      "34\n"
     ]
    }
   ],
   "source": [
    "print(\"홀수 짝수 구분하기~\")\n",
    "number=int(input(\"숫자를 입력하세요\"))\n",
    "print(number)"
   ]
  },
  {
   "cell_type": "code",
   "execution_count": 52,
   "id": "de10e821-8c8f-4a69-8761-fbec7f03f1ad",
   "metadata": {},
   "outputs": [
    {
     "data": {
      "text/plain": [
       "True"
      ]
     },
     "execution_count": 52,
     "metadata": {},
     "output_type": "execute_result"
    }
   ],
   "source": [
    "a=10\n",
    "b=5\n",
    "c=100\n",
    "(a>b)<c"
   ]
  },
  {
   "cell_type": "code",
   "execution_count": 53,
   "id": "b8ccd910-27aa-4af0-b2b9-61fd2aed0f38",
   "metadata": {},
   "outputs": [
    {
     "data": {
      "text/plain": [
       "False"
      ]
     },
     "execution_count": 53,
     "metadata": {},
     "output_type": "execute_result"
    }
   ],
   "source": [
    "a<b<c"
   ]
  },
  {
   "cell_type": "code",
   "execution_count": 64,
   "id": "0400b6ff-c36e-4036-97e0-948d9279552e",
   "metadata": {},
   "outputs": [
    {
     "name": "stdin",
     "output_type": "stream",
     "text": [
      "당신이 태어난 연도를 입력하세요 34\n"
     ]
    },
    {
     "name": "stdout",
     "output_type": "stream",
     "text": [
      "나이는 1988살 입니다\n",
      "학생이 아닙니다.\n"
     ]
    }
   ],
   "source": [
    "by=int(input(\"당신이 태어난 연도를 입력하세요\"))\n",
    "age = 2021-by+1\n",
    "print(\"나이는 %d살 입니다\" %age)\n",
    "if age > 26 or age < 8: print(\"학생이 아닙니다.\")\n",
    "elif age >= 20: print(\"대학생\")\n",
    "elif age >= 17: print(\"고등학생\")\n",
    "elif age >= 14: print(\"중학생\")\n",
    "elif age >= 8: print(\"초등학생\")\n",
    "else: print(\"학생이 아닙니다.\")\n",
    "   "
   ]
  },
  {
   "cell_type": "code",
   "execution_count": 65,
   "id": "d8312dd0-b9d2-4e0c-8017-6742d914a6ab",
   "metadata": {},
   "outputs": [
    {
     "name": "stdout",
     "output_type": "stream",
     "text": [
      "1\n",
      "2\n",
      "3\n",
      "4\n",
      "5\n"
     ]
    }
   ],
   "source": [
    "for i in [1, 2, 3, 4, 5]:\n",
    "    print(i)"
   ]
  },
  {
   "cell_type": "code",
   "execution_count": 67,
   "id": "1acb4850-2035-4363-9f62-b5499065ab51",
   "metadata": {},
   "outputs": [
    {
     "name": "stdout",
     "output_type": "stream",
     "text": [
      "a\n",
      "b\n",
      "c\n",
      "d\n",
      "e\n"
     ]
    }
   ],
   "source": [
    "for i in 'abcde':\n",
    "    print(i)"
   ]
  },
  {
   "cell_type": "code",
   "execution_count": 71,
   "id": "f702bc51-081e-40f4-9ab9-9a2adcd0adbb",
   "metadata": {},
   "outputs": [
    {
     "name": "stdout",
     "output_type": "stream",
     "text": [
      "0\n",
      "1\n",
      "2\n",
      "3\n",
      "4\n",
      "5\n",
      "6\n",
      "7\n",
      "8\n",
      "9\n",
      "================\n",
      "1\n",
      "3\n",
      "5\n",
      "7\n",
      "9\n"
     ]
    }
   ],
   "source": [
    "for i in range(10):\n",
    "    print(i)\n",
    "print(\"================\")\n",
    "    \n",
    "for i in range(1, 10, 2):\n",
    "    print(i)"
   ]
  },
  {
   "cell_type": "code",
   "execution_count": 74,
   "id": "b2065ebd-cd09-4157-8eb0-2284fd1d6ea8",
   "metadata": {},
   "outputs": [
    {
     "name": "stdout",
     "output_type": "stream",
     "text": [
      "java\n",
      "python\n",
      "spring\n",
      "android\n",
      "================\n",
      "j a v a \n",
      "p y t h o n \n",
      "s p r i n g \n",
      "a n d r o i d \n"
     ]
    }
   ],
   "source": [
    "for i in [\"java\", \"python\", \"spring\", \"android\"]:\n",
    "    print(i)\n",
    "print(\"================\")\n",
    "for i in [\"java\", \"python\", \"spring\", \"android\"]:\n",
    "    for j in i:\n",
    "        print(j, end=\" \")\n",
    "    print()\n",
    "    "
   ]
  },
  {
   "cell_type": "code",
   "execution_count": 76,
   "id": "0cad4ea0-1b31-4231-97fb-977b40217c73",
   "metadata": {},
   "outputs": [
    {
     "name": "stdout",
     "output_type": "stream",
     "text": [
      "gfedcba\n",
      "gfedcba\n"
     ]
    }
   ],
   "source": [
    "sentence=\"abcdefg\"\n",
    "reverse_sentence=''\n",
    "for ch in sentence:\n",
    "    reverse_sentence=ch+reverse_sentence\n",
    "print(reverse_sentence)\n",
    "print(sentence[::-1])"
   ]
  },
  {
   "cell_type": "code",
   "execution_count": 80,
   "id": "b4f6346a-290b-44d4-80a1-21779b0f9b40",
   "metadata": {},
   "outputs": [
    {
     "name": "stdout",
     "output_type": "stream",
     "text": [
      "[[49, 43, 49], [80, 60, 82], [20, 85, 48], [100, 30, 50], [80, 90, 100]]\n",
      "47.0, 74.0, 51.0, 60.0, 90.0, "
     ]
    }
   ],
   "source": [
    "a=[49, 43, 49]\n",
    "b=[80, 60, 82]\n",
    "c=[20, 85, 48]\n",
    "d=[100, 30, 50]\n",
    "e=[80, 90, 100]\n",
    "result = [a, b, c, d, e]\n",
    "print(result)\n",
    "\n",
    "for i in result:\n",
    "    sum=0\n",
    "    avg=0\n",
    "    for j in i:\n",
    "        sum+=j\n",
    "    avg=sum/3\n",
    "    print(avg, end=\", \")        "
   ]
  },
  {
   "cell_type": "code",
   "execution_count": null,
   "id": "ccb58736-8034-45ee-8aa1-0de36dae3a2e",
   "metadata": {},
   "outputs": [],
   "source": [
    "kor = [49, 80, 20, 100, 80]\n",
    "math = [43, 60, 85, 30, 90]\n",
    "eng = [49, 82, 48, 50, 100]\n",
    "\n",
    "\n"
   ]
  },
  {
   "cell_type": "code",
   "execution_count": null,
   "id": "7d56450e-cced-429c-b7a4-ccfac524f597",
   "metadata": {},
   "outputs": [],
   "source": []
  },
  {
   "cell_type": "code",
   "execution_count": null,
   "id": "11708103-f3ab-4fb6-9081-110adda554dd",
   "metadata": {},
   "outputs": [],
   "source": []
  }
 ],
 "metadata": {
  "kernelspec": {
   "display_name": "Python 3",
   "language": "python",
   "name": "python3"
  },
  "language_info": {
   "codemirror_mode": {
    "name": "ipython",
    "version": 3
   },
   "file_extension": ".py",
   "mimetype": "text/x-python",
   "name": "python",
   "nbconvert_exporter": "python",
   "pygments_lexer": "ipython3",
   "version": "3.8.8"
  }
 },
 "nbformat": 4,
 "nbformat_minor": 5
}
