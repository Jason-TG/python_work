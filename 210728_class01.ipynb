{
 "cells": [
  {
   "cell_type": "code",
   "execution_count": null,
   "id": "2c7ee00d-21e2-4e80-9a82-40085b1cdee6",
   "metadata": {},
   "outputs": [],
   "source": [
    "# inheritance / 상속"
   ]
  },
  {
   "cell_type": "code",
   "execution_count": 13,
   "id": "6a2566c6-8839-446a-b56c-cec7699b3173",
   "metadata": {},
   "outputs": [],
   "source": [
    "class Person(object):\n",
    "    def __init__(self, name, age, gender):\n",
    "        self.name = name\n",
    "        self.age = age\n",
    "        self.gender = gender\n",
    "        \n",
    "    def about(self):\n",
    "        print(\"이름은 {}이고, 나이는 {}세이며, 성별은 {}성입니다.\".format(self.name, self.age, self.gender))"
   ]
  },
  {
   "cell_type": "code",
   "execution_count": 14,
   "id": "0b9ef7e6-76b3-4b1a-9675-7991b56b6848",
   "metadata": {},
   "outputs": [],
   "source": [
    "class Student(Person):\n",
    "    def __init__(self, name, age, gender, sno, major):\n",
    "        super().__init__(name, age, gender)\n",
    "        self.sno=sno\n",
    "        self.major=major\n",
    "        \n",
    "    def about(self):\n",
    "        super().about()\n",
    "        print(\"학번은 %d이고 전공은 %s입니다.\" %(self.sno, self.major))"
   ]
  },
  {
   "cell_type": "code",
   "execution_count": 15,
   "id": "8e523ee0-7c09-4efe-9e87-2d36671fc6b6",
   "metadata": {},
   "outputs": [
    {
     "name": "stdout",
     "output_type": "stream",
     "text": [
      "이름은 홍길동이고, 나이는 20세이며, 성별은 남성입니다.\n",
      "학번은 100이고 전공은 컴공입니다.\n"
     ]
    }
   ],
   "source": [
    "s1=Student(\"홍길동\", 20, \"남\", 100, \"컴공\")\n",
    "s1.about()"
   ]
  },
  {
   "cell_type": "code",
   "execution_count": 20,
   "id": "9b1d203e-c9ac-4077-bbf6-6ca79635adf7",
   "metadata": {},
   "outputs": [],
   "source": [
    "class Employee(Person):\n",
    "    def __init__(self, name, age, gender, eno, dept, salary):\n",
    "        super().__init__(name, age, gender)\n",
    "        self.eno=eno\n",
    "        self.dept=dept\n",
    "        self.salary=salary\n",
    "    \n",
    "    def about(self):\n",
    "        super().about()\n",
    "        print(\"사번은 {}번이고 부서는 {}이며 급여는 월{}원 입니다.\".format(self.eno, self.dept, self.salary))"
   ]
  },
  {
   "cell_type": "code",
   "execution_count": 21,
   "id": "64e1038b-e890-40bd-a1ab-c050a25bd444",
   "metadata": {},
   "outputs": [
    {
     "name": "stdout",
     "output_type": "stream",
     "text": [
      "이름은 주미진이고, 나이는 32세이며, 성별은 여성입니다.\n",
      "사번은 23번이고 부서는 인사부이며 급여는 월4,000,000원 입니다.\n"
     ]
    }
   ],
   "source": [
    "e1=Employee(\"주미진\", 32, \"여\", 23, \"인사부\", \"4,000,000\")\n",
    "e1.about()"
   ]
  },
  {
   "cell_type": "code",
   "execution_count": null,
   "id": "63837f5c-0fd5-408f-beda-03ac7ab0a697",
   "metadata": {},
   "outputs": [],
   "source": []
  }
 ],
 "metadata": {
  "kernelspec": {
   "display_name": "Python 3",
   "language": "python",
   "name": "python3"
  },
  "language_info": {
   "codemirror_mode": {
    "name": "ipython",
    "version": 3
   },
   "file_extension": ".py",
   "mimetype": "text/x-python",
   "name": "python",
   "nbconvert_exporter": "python",
   "pygments_lexer": "ipython3",
   "version": "3.8.8"
  }
 },
 "nbformat": 4,
 "nbformat_minor": 5
}
