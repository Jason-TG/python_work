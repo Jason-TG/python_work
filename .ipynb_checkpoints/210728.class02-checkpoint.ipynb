{
 "cells": [
  {
   "cell_type": "code",
   "execution_count": null,
   "id": "8209d2c6-e5a8-4280-a0a6-068c9a9b0959",
   "metadata": {},
   "outputs": [],
   "source": [
    "#python 데이터 분석 라이브러리"
   ]
  },
  {
   "cell_type": "code",
   "execution_count": null,
   "id": "845588e9-32ff-41b0-8e84-c973b9ca1ba8",
   "metadata": {},
   "outputs": [],
   "source": []
  },
  {
   "cell_type": "code",
   "execution_count": 1,
   "id": "795001b4-f43a-4e85-9cd3-81fc0c5d5fb5",
   "metadata": {},
   "outputs": [],
   "source": [
    "# 기본 라이브러리가 아니므로 임포트해와서 사용한다. \n",
    "import numpy as np\n",
    "import pandas as pd\n",
    "import matplotlib"
   ]
  },
  {
   "cell_type": "code",
   "execution_count": 3,
   "id": "bd60051e-611d-4d3b-ac18-5e95819d2df3",
   "metadata": {},
   "outputs": [
    {
     "data": {
      "text/plain": [
       "array([0.74348364, 0.36528575, 0.97695809, 0.22359123, 0.49809758,\n",
       "       0.6578823 , 0.33033357, 0.61029165, 0.3536518 , 0.96437311,\n",
       "       0.26372701, 0.59913458, 0.7669513 , 0.14180709, 0.40632227,\n",
       "       0.62871641, 0.94807599, 0.48535389, 0.94961225, 0.37745818,\n",
       "       0.97804325, 0.29244834, 0.40949266, 0.75791671, 0.2111803 ,\n",
       "       0.00138508, 0.21686692, 0.61184898, 0.30482958, 0.12058795,\n",
       "       0.48320607, 0.85687044, 0.79787066, 0.38960053, 0.87925428,\n",
       "       0.40401491, 0.77167398, 0.54679477, 0.80734777, 0.08209651,\n",
       "       0.29448705, 0.46553583, 0.52951272, 0.07736477, 0.61142673,\n",
       "       0.51680562, 0.07491055, 0.26120573, 0.3239026 , 0.47397728])"
      ]
     },
     "execution_count": 3,
     "metadata": {},
     "output_type": "execute_result"
    }
   ],
   "source": [
    "data=np.random.rand(50)\n",
    "data\n",
    "# 1차원 배열을 파이썬에서는 '벡터'라고 한다. "
   ]
  },
  {
   "cell_type": "code",
   "execution_count": 10,
   "id": "bc50ba16-2d3d-4e47-8b01-d2f07b196fa8",
   "metadata": {},
   "outputs": [
    {
     "name": "stdout",
     "output_type": "stream",
     "text": [
      "<class 'pandas.core.series.Series'>\n",
      "name    [홍길동, 김재건, 김도현]\n",
      "kor        [80, 70, 90]\n",
      "math       [80, 85, 90]\n",
      "dtype: object\n"
     ]
    }
   ],
   "source": [
    "# series는 키, 밸류 값으로 인덱스와 데이터를 1차원 배열로 저장한다. \n",
    "seri=pd.Series(data)\n",
    "print(type(seri))\n",
    "print(seri)"
   ]
  },
  {
   "cell_type": "code",
   "execution_count": 6,
   "id": "3aa3d69f-4b38-4bf5-9f62-e4c04ab57cb6",
   "metadata": {},
   "outputs": [
    {
     "data": {
      "text/plain": [
       "{'name': ['홍길동', '김재건', '김도현'], 'kor': [80, 70, 90], 'math': [80, 85, 90]}"
      ]
     },
     "execution_count": 6,
     "metadata": {},
     "output_type": "execute_result"
    }
   ],
   "source": [
    "name=['홍길동', '김재건', '김도현']\n",
    "kor=[80, 70, 90]\n",
    "math=[80, 85, 90]\n",
    "data={\"name\":name, \"kor\":kor, \"math\":math}\n",
    "data"
   ]
  },
  {
   "cell_type": "code",
   "execution_count": 8,
   "id": "ec2dcc33-4714-4b7a-8684-4016956c83a8",
   "metadata": {},
   "outputs": [
    {
     "data": {
      "text/html": [
       "<div>\n",
       "<style scoped>\n",
       "    .dataframe tbody tr th:only-of-type {\n",
       "        vertical-align: middle;\n",
       "    }\n",
       "\n",
       "    .dataframe tbody tr th {\n",
       "        vertical-align: top;\n",
       "    }\n",
       "\n",
       "    .dataframe thead th {\n",
       "        text-align: right;\n",
       "    }\n",
       "</style>\n",
       "<table border=\"1\" class=\"dataframe\">\n",
       "  <thead>\n",
       "    <tr style=\"text-align: right;\">\n",
       "      <th></th>\n",
       "      <th>name</th>\n",
       "      <th>kor</th>\n",
       "      <th>math</th>\n",
       "    </tr>\n",
       "  </thead>\n",
       "  <tbody>\n",
       "    <tr>\n",
       "      <th>0</th>\n",
       "      <td>홍길동</td>\n",
       "      <td>80</td>\n",
       "      <td>80</td>\n",
       "    </tr>\n",
       "    <tr>\n",
       "      <th>1</th>\n",
       "      <td>김재건</td>\n",
       "      <td>70</td>\n",
       "      <td>85</td>\n",
       "    </tr>\n",
       "    <tr>\n",
       "      <th>2</th>\n",
       "      <td>김도현</td>\n",
       "      <td>90</td>\n",
       "      <td>90</td>\n",
       "    </tr>\n",
       "  </tbody>\n",
       "</table>\n",
       "</div>"
      ],
      "text/plain": [
       "  name  kor  math\n",
       "0  홍길동   80    80\n",
       "1  김재건   70    85\n",
       "2  김도현   90    90"
      ]
     },
     "execution_count": 8,
     "metadata": {},
     "output_type": "execute_result"
    }
   ],
   "source": [
    "df=pd.DataFrame(data);df"
   ]
  },
  {
   "cell_type": "code",
   "execution_count": 14,
   "id": "36342637-d4c5-4df0-8223-c3bc939c6bca",
   "metadata": {},
   "outputs": [
    {
     "name": "stdout",
     "output_type": "stream",
     "text": [
      "10\n"
     ]
    }
   ],
   "source": [
    "a=10\n",
    "print(a)"
   ]
  },
  {
   "cell_type": "code",
   "execution_count": 12,
   "id": "0310e636-c0a6-4043-830e-b078095fbf4f",
   "metadata": {},
   "outputs": [
    {
     "data": {
      "text/plain": [
       "<AxesSubplot:>"
      ]
     },
     "execution_count": 12,
     "metadata": {},
     "output_type": "execute_result"
    },
    {
     "data": {
      "image/png": "[encoded data removed]",
      "text/plain": [
       "<Figure size 432x288 with 1 Axes>"
      ]
     },
     "metadata": {
      "needs_background": "light"
     },
     "output_type": "display_data"
    }
   ],
   "source": [
    "df.plot()"
   ]
  },
  {
   "cell_type": "code",
   "execution_count": 16,
   "id": "8612de22-b082-44b8-9d77-3e90628af3f3",
   "metadata": {},
   "outputs": [
    {
     "name": "stdout",
     "output_type": "stream",
     "text": [
      "<class 'numpy.ndarray'>\n",
      "(10, 3)\n",
      "[[0.85404995 0.72824983 0.78989191]\n",
      " [0.25076371 0.93693306 0.44919782]\n",
      " [0.14688002 0.48840525 0.32639264]\n",
      " [0.274299   0.16233519 0.55958335]\n",
      " [0.30965789 0.6941869  0.86175967]\n",
      " [0.36876537 0.30178242 0.00811319]\n",
      " [0.7539942  0.83718996 0.33888666]\n",
      " [0.44974565 0.72582301 0.39929414]\n",
      " [0.23831225 0.61386438 0.45283256]\n",
      " [0.61316086 0.98623561 0.05909095]]\n"
     ]
    }
   ],
   "source": [
    "data=np.random.rand(10,3)\n",
    "print(type(data))\n",
    "print(data.shape)\n",
    "print(data)"
   ]
  },
  {
   "cell_type": "code",
   "execution_count": 18,
   "id": "35a79df4-4c47-409c-a384-d97437b1f0e3",
   "metadata": {},
   "outputs": [
    {
     "data": {
      "text/html": [
       "<div>\n",
       "<style scoped>\n",
       "    .dataframe tbody tr th:only-of-type {\n",
       "        vertical-align: middle;\n",
       "    }\n",
       "\n",
       "    .dataframe tbody tr th {\n",
       "        vertical-align: top;\n",
       "    }\n",
       "\n",
       "    .dataframe thead th {\n",
       "        text-align: right;\n",
       "    }\n",
       "</style>\n",
       "<table border=\"1\" class=\"dataframe\">\n",
       "  <thead>\n",
       "    <tr style=\"text-align: right;\">\n",
       "      <th></th>\n",
       "      <th>A</th>\n",
       "      <th>B</th>\n",
       "      <th>C</th>\n",
       "    </tr>\n",
       "  </thead>\n",
       "  <tbody>\n",
       "    <tr>\n",
       "      <th>0</th>\n",
       "      <td>0.854050</td>\n",
       "      <td>0.728250</td>\n",
       "      <td>0.789892</td>\n",
       "    </tr>\n",
       "    <tr>\n",
       "      <th>1</th>\n",
       "      <td>0.250764</td>\n",
       "      <td>0.936933</td>\n",
       "      <td>0.449198</td>\n",
       "    </tr>\n",
       "    <tr>\n",
       "      <th>2</th>\n",
       "      <td>0.146880</td>\n",
       "      <td>0.488405</td>\n",
       "      <td>0.326393</td>\n",
       "    </tr>\n",
       "    <tr>\n",
       "      <th>3</th>\n",
       "      <td>0.274299</td>\n",
       "      <td>0.162335</td>\n",
       "      <td>0.559583</td>\n",
       "    </tr>\n",
       "    <tr>\n",
       "      <th>4</th>\n",
       "      <td>0.309658</td>\n",
       "      <td>0.694187</td>\n",
       "      <td>0.861760</td>\n",
       "    </tr>\n",
       "    <tr>\n",
       "      <th>5</th>\n",
       "      <td>0.368765</td>\n",
       "      <td>0.301782</td>\n",
       "      <td>0.008113</td>\n",
       "    </tr>\n",
       "    <tr>\n",
       "      <th>6</th>\n",
       "      <td>0.753994</td>\n",
       "      <td>0.837190</td>\n",
       "      <td>0.338887</td>\n",
       "    </tr>\n",
       "    <tr>\n",
       "      <th>7</th>\n",
       "      <td>0.449746</td>\n",
       "      <td>0.725823</td>\n",
       "      <td>0.399294</td>\n",
       "    </tr>\n",
       "    <tr>\n",
       "      <th>8</th>\n",
       "      <td>0.238312</td>\n",
       "      <td>0.613864</td>\n",
       "      <td>0.452833</td>\n",
       "    </tr>\n",
       "    <tr>\n",
       "      <th>9</th>\n",
       "      <td>0.613161</td>\n",
       "      <td>0.986236</td>\n",
       "      <td>0.059091</td>\n",
       "    </tr>\n",
       "  </tbody>\n",
       "</table>\n",
       "</div>"
      ],
      "text/plain": [
       "          A         B         C\n",
       "0  0.854050  0.728250  0.789892\n",
       "1  0.250764  0.936933  0.449198\n",
       "2  0.146880  0.488405  0.326393\n",
       "3  0.274299  0.162335  0.559583\n",
       "4  0.309658  0.694187  0.861760\n",
       "5  0.368765  0.301782  0.008113\n",
       "6  0.753994  0.837190  0.338887\n",
       "7  0.449746  0.725823  0.399294\n",
       "8  0.238312  0.613864  0.452833\n",
       "9  0.613161  0.986236  0.059091"
      ]
     },
     "execution_count": 18,
     "metadata": {},
     "output_type": "execute_result"
    }
   ],
   "source": [
    "df=pd.DataFrame(data, columns=['A','B','C'])\n",
    "df"
   ]
  },
  {
   "cell_type": "code",
   "execution_count": 23,
   "id": "cd85b75d-fc1d-4c30-9eae-d8a101c527a4",
   "metadata": {},
   "outputs": [
    {
     "data": {
      "text/plain": [
       "<AxesSubplot:>"
      ]
     },
     "execution_count": 23,
     "metadata": {},
     "output_type": "execute_result"
    },
    {
     "data": {
      "image/png": "[encoded data removed]",
      "text/plain": [
       "<Figure size 432x288 with 1 Axes>"
      ]
     },
     "metadata": {
      "needs_background": "light"
     },
     "output_type": "display_data"
    },
    {
     "data": {
      "image/png": "[encoded data removed]",
      "text/plain": [
       "<Figure size 432x288 with 1 Axes>"
      ]
     },
     "metadata": {
      "needs_background": "light"
     },
     "output_type": "display_data"
    },
    {
     "data": {
      "image/png": "[encoded data removed]",
      "text/plain": [
       "<Figure size 432x288 with 1 Axes>"
      ]
     },
     "metadata": {
      "needs_background": "light"
     },
     "output_type": "display_data"
    }
   ],
   "source": [
    "df.plot()\n",
    "df.plot(kind=\"bar\")\n",
    "df.plot(kind=\"barh\")"
   ]
  },
  {
   "cell_type": "code",
   "execution_count": 24,
   "id": "70cd067d-ea7a-43e8-b50c-eb09dfe6a7a2",
   "metadata": {},
   "outputs": [
    {
     "data": {
      "text/plain": [
       "<AxesSubplot:>"
      ]
     },
     "execution_count": 24,
     "metadata": {},
     "output_type": "execute_result"
    },
    {
     "data": {
      "image/png": "[encoded data removed]",
      "text/plain": [
       "<Figure size 432x288 with 1 Axes>"
      ]
     },
     "metadata": {
      "needs_background": "light"
     },
     "output_type": "display_data"
    }
   ],
   "source": [
    "df.plot(kind=\"bar\", stacked=True)"
   ]
  },
  {
   "cell_type": "code",
   "execution_count": 26,
   "id": "8ccaaad5-b041-4ba4-9c91-c777d8270f07",
   "metadata": {},
   "outputs": [
    {
     "data": {
      "text/plain": [
       "<AxesSubplot:>"
      ]
     },
     "execution_count": 26,
     "metadata": {},
     "output_type": "execute_result"
    },
    {
     "data": {
      "image/png": "[encoded data removed]",
      "text/plain": [
       "<Figure size 432x288 with 1 Axes>"
      ]
     },
     "metadata": {
      "needs_background": "light"
     },
     "output_type": "display_data"
    },
    {
     "data": {
      "image/png": "[encoded data removed]",
      "text/plain": [
       "<Figure size 432x288 with 1 Axes>"
      ]
     },
     "metadata": {
      "needs_background": "light"
     },
     "output_type": "display_data"
    }
   ],
   "source": [
    "# 영역형은 디폴트로 스택처럼 쌓아진 형태\n",
    "df.plot(kind=\"area\")\n",
    "df.plot(kind=\"area\", stacked=False)"
   ]
  },
  {
   "cell_type": "code",
   "execution_count": 27,
   "id": "26a7d4a1-a254-47d7-a4e4-bb090327cfdc",
   "metadata": {},
   "outputs": [
    {
     "data": {
      "text/plain": [
       "a    0.788642\n",
       "b    0.469787\n",
       "c    0.979242\n",
       "d    0.093003\n",
       "e    0.925738\n",
       "Name: Series, dtype: float64"
      ]
     },
     "execution_count": 27,
     "metadata": {},
     "output_type": "execute_result"
    }
   ],
   "source": [
    "seri=pd.Series(np.random.rand(5),index=['a','b','c','d','e'], name='Series')\n",
    "seri\n",
    "# 파이썬에서 차트에 한글을 입력하기 위해서는 따로 불러와야 한다. "
   ]
  },
  {
   "cell_type": "code",
   "execution_count": 31,
   "id": "13d0319d-62fc-4e53-915d-c47dff129a1c",
   "metadata": {},
   "outputs": [
    {
     "data": {
      "text/plain": [
       "<AxesSubplot:ylabel='Series'>"
      ]
     },
     "execution_count": 31,
     "metadata": {},
     "output_type": "execute_result"
    },
    {
     "data": {
      "image/png": "[encoded data removed]",
      "text/plain": [
       "<Figure size 432x288 with 1 Axes>"
      ]
     },
     "metadata": {},
     "output_type": "display_data"
    }
   ],
   "source": [
    "seri.plot(kind=\"pie\")"
   ]
  },
  {
   "cell_type": "code",
   "execution_count": 42,
   "id": "5213d2e9-9942-4f78-93f7-ce10b626a30b",
   "metadata": {},
   "outputs": [
    {
     "data": {
      "text/plain": [
       "<AxesSubplot:ylabel='Series'>"
      ]
     },
     "execution_count": 42,
     "metadata": {},
     "output_type": "execute_result"
    },
    {
     "data": {
      "image/png": "[encoded data removed]",
      "text/plain": [
       "<Figure size 360x360 with 1 Axes>"
      ]
     },
     "metadata": {},
     "output_type": "display_data"
    }
   ],
   "source": [
    "seri.plot(kind=\"pie\", autopct=\"%.2f\", fontsize=13, figsize=(5, 5))"
   ]
  },
  {
   "cell_type": "code",
   "execution_count": 43,
   "id": "f5d02c88-53b5-4981-ad22-c4974918b217",
   "metadata": {},
   "outputs": [
    {
     "data": {
      "text/plain": [
       "[1, 2, 3, 4, 5, 6, 7, 8, 9]"
      ]
     },
     "execution_count": 43,
     "metadata": {},
     "output_type": "execute_result"
    }
   ],
   "source": [
    "a=[i for i in range(1, 10)]\n",
    "a"
   ]
  },
  {
   "cell_type": "code",
   "execution_count": 45,
   "id": "77b5299d-c83b-40ca-9f2c-cec0437a6a89",
   "metadata": {},
   "outputs": [
    {
     "name": "stdout",
     "output_type": "stream",
     "text": [
      "[1 2 3 4 5 6 7 8 9] 45 5.0\n"
     ]
    }
   ],
   "source": [
    "x=np.array(a)\n",
    "print(x, x.sum(), x.mean())\n",
    "# 아래와 같은 1차원 배열을 벡터라고 한다."
   ]
  },
  {
   "cell_type": "code",
   "execution_count": 48,
   "id": "e19bec14-aa25-4146-98d7-58f9413b44de",
   "metadata": {},
   "outputs": [
    {
     "ename": "AttributeError",
     "evalue": "'list' object has no attribute 'sum'",
     "output_type": "error",
     "traceback": [
      "\u001b[1;31m---------------------------------------------------------------------------\u001b[0m",
      "\u001b[1;31mAttributeError\u001b[0m                            Traceback (most recent call last)",
      "\u001b[1;32m<ipython-input-48-a8e8e30d0eec>\u001b[0m in \u001b[0;36m<module>\u001b[1;34m\u001b[0m\n\u001b[1;32m----> 1\u001b[1;33m \u001b[0mprint\u001b[0m\u001b[1;33m(\u001b[0m\u001b[0ma\u001b[0m\u001b[1;33m,\u001b[0m \u001b[0ma\u001b[0m\u001b[1;33m.\u001b[0m\u001b[0msum\u001b[0m\u001b[1;33m(\u001b[0m\u001b[1;33m)\u001b[0m\u001b[1;33m,\u001b[0m \u001b[0ma\u001b[0m\u001b[1;33m.\u001b[0m\u001b[0mmean\u001b[0m\u001b[1;33m(\u001b[0m\u001b[1;33m)\u001b[0m\u001b[1;33m)\u001b[0m\u001b[1;33m\u001b[0m\u001b[1;33m\u001b[0m\u001b[0m\n\u001b[0m",
      "\u001b[1;31mAttributeError\u001b[0m: 'list' object has no attribute 'sum'"
     ]
    }
   ],
   "source": [
    "print(a, a.sum(), a.mean())"
   ]
  },
  {
   "cell_type": "code",
   "execution_count": 59,
   "id": "8748d4ba-1e83-4684-8742-7929a0fb085f",
   "metadata": {},
   "outputs": [
    {
     "data": {
      "text/plain": [
       "array([5.86489954e-01, 8.71712788e-01, 9.50897190e-01, 9.90910963e-01,\n",
       "       4.04635711e-01, 5.07833465e-01, 8.50606379e-01, 4.42942162e-01,\n",
       "       1.59423664e-04, 8.54380882e-01])"
      ]
     },
     "execution_count": 59,
     "metadata": {},
     "output_type": "execute_result"
    }
   ],
   "source": [
    "data=np.random.rand(10)\n",
    "data"
   ]
  },
  {
   "cell_type": "code",
   "execution_count": 56,
   "id": "42e501ff-ec02-4c5c-8ef0-b049c3ddf562",
   "metadata": {},
   "outputs": [
    {
     "name": "stdout",
     "output_type": "stream",
     "text": [
      "<class 'numpy.ndarray'>\n",
      "(2, 4)\n",
      "[[ 1  2  3  4]\n",
      " [10 20 30 40]]\n"
     ]
    }
   ],
   "source": [
    "data2=[[1,2,3,4],[10,20,30,40]]\n",
    "arr2=np.array(data2)\n",
    "print(type(arr2))\n",
    "print(arr2.shape)\n",
    "print(arr2)"
   ]
  },
  {
   "cell_type": "code",
   "execution_count": 57,
   "id": "eb5704df-4fb2-4f4c-abed-64d23c67106e",
   "metadata": {},
   "outputs": [
    {
     "name": "stdout",
     "output_type": "stream",
     "text": [
      "<class 'numpy.ndarray'>\n",
      "(2, 4)\n",
      "[['1' '2' '3' '4']\n",
      " ['10' '20' '30' 'A']]\n"
     ]
    }
   ],
   "source": [
    "data2=[[1,2,3,4],[10,20,30,'A']]\n",
    "arr2=np.array(data2)\n",
    "print(type(arr2))\n",
    "print(arr2.shape)\n",
    "print(arr2)\n",
    "# 배열에는 한가지 형태의 데이터만 들어간다. "
   ]
  },
  {
   "cell_type": "code",
   "execution_count": 61,
   "id": "007871ed-e9eb-4ce2-a07b-cb3de9aa59d8",
   "metadata": {},
   "outputs": [
    {
     "data": {
      "text/plain": [
       "array([0.05841255, 0.21617085, 0.02158401, 0.978653  , 0.56664975,\n",
       "       0.05381685, 0.43465063, 0.25741638, 0.68816983])"
      ]
     },
     "execution_count": 61,
     "metadata": {},
     "output_type": "execute_result"
    }
   ],
   "source": [
    "a=np.random.rand(9)\n",
    "a"
   ]
  },
  {
   "cell_type": "code",
   "execution_count": 62,
   "id": "37902683-5f13-4df2-89f9-d3057cc7313a",
   "metadata": {},
   "outputs": [
    {
     "data": {
      "text/plain": [
       "array([[0.05841255, 0.21617085, 0.02158401],\n",
       "       [0.978653  , 0.56664975, 0.05381685],\n",
       "       [0.43465063, 0.25741638, 0.68816983]])"
      ]
     },
     "execution_count": 62,
     "metadata": {},
     "output_type": "execute_result"
    }
   ],
   "source": [
    "arr3=np.array(a).reshape(3,3)\n",
    "arr3"
   ]
  },
  {
   "cell_type": "code",
   "execution_count": 66,
   "id": "8bba36a8-cc52-4f1d-86e8-9e00f486a4ea",
   "metadata": {},
   "outputs": [
    {
     "name": "stdout",
     "output_type": "stream",
     "text": [
      "[1. 1. 1. 1. 1. 1. 1. 1. 1. 1.]\n",
      "[[1. 1. 1. 1.]\n",
      " [1. 1. 1. 1.]\n",
      " [1. 1. 1. 1.]]\n",
      "[[1. 1. 1.]\n",
      " [1. 1. 1.]\n",
      " [1. 1. 1.]\n",
      " [1. 1. 1.]]\n"
     ]
    }
   ],
   "source": [
    "y1=np.ones(10)\n",
    "y2=np.ones([3,4])\n",
    "y3=np.ones(12).reshape(4,3)\n",
    "print(y1)\n",
    "print(y2)\n",
    "print(y3)"
   ]
  },
  {
   "cell_type": "code",
   "execution_count": 72,
   "id": "45d513f8-cea7-49e3-baa7-96fec3b5fbc1",
   "metadata": {},
   "outputs": [
    {
     "name": "stdout",
     "output_type": "stream",
     "text": [
      "[0. 0. 0. 0. 0. 0. 0. 0. 0. 0.]\n",
      "[[0. 0. 0. 0.]\n",
      " [0. 0. 0. 0.]\n",
      " [0. 0. 0. 0.]]\n",
      "[[0. 0. 0.]\n",
      " [0. 0. 0.]\n",
      " [0. 0. 0.]\n",
      " [0. 0. 0.]]\n"
     ]
    }
   ],
   "source": [
    "y1=np.zeros(10)\n",
    "y2=np.zeros([3,4])\n",
    "y3=np.zeros(12).reshape(4,3)\n",
    "print(y1)\n",
    "print(y2)\n",
    "print(y3)"
   ]
  },
  {
   "cell_type": "code",
   "execution_count": null,
   "id": "c1b064bd-bad4-4529-9bce-1c282f7a6c64",
   "metadata": {},
   "outputs": [],
   "source": []
  },
  {
   "cell_type": "code",
   "execution_count": null,
   "id": "066f6f25-eae9-4878-a725-4c41ce3ae911",
   "metadata": {},
   "outputs": [],
   "source": [
    "# List의 슬라이싱"
   ]
  },
  {
   "cell_type": "code",
   "execution_count": 74,
   "id": "707da129-7a08-45da-a273-6090f7a1b73a",
   "metadata": {},
   "outputs": [
    {
     "data": {
      "text/plain": [
       "[1, 2, 3, 4, 5, 6, 7, 8, 9, 10, 11, 12]"
      ]
     },
     "execution_count": 74,
     "metadata": {},
     "output_type": "execute_result"
    }
   ],
   "source": [
    "a=[i for i in range(1, 13)]\n",
    "a"
   ]
  },
  {
   "cell_type": "code",
   "execution_count": 76,
   "id": "688a4195-7cb6-4f47-aa29-37291b2c0e42",
   "metadata": {},
   "outputs": [
    {
     "data": {
      "text/plain": [
       "[6, 7, 8, 9, 10, 11, 12]"
      ]
     },
     "execution_count": 76,
     "metadata": {},
     "output_type": "execute_result"
    }
   ],
   "source": [
    "a[5:]"
   ]
  },
  {
   "cell_type": "code",
   "execution_count": 77,
   "id": "875fc97f-4ed9-4507-8d69-708eddf3d3e2",
   "metadata": {},
   "outputs": [
    {
     "data": {
      "text/plain": [
       "[1, 2, 3]"
      ]
     },
     "execution_count": 77,
     "metadata": {},
     "output_type": "execute_result"
    }
   ],
   "source": [
    "a[:3]"
   ]
  },
  {
   "cell_type": "code",
   "execution_count": 78,
   "id": "98202160-9477-447c-b266-34ebdfc38447",
   "metadata": {},
   "outputs": [
    {
     "data": {
      "text/plain": [
       "[1, 3, 5, 7, 9, 11]"
      ]
     },
     "execution_count": 78,
     "metadata": {},
     "output_type": "execute_result"
    }
   ],
   "source": [
    "a[::2]"
   ]
  },
  {
   "cell_type": "code",
   "execution_count": 79,
   "id": "b8303a96-339d-40d9-8005-a37f9e27ce66",
   "metadata": {},
   "outputs": [
    {
     "data": {
      "text/plain": [
       "[[1, 2, 3], [4, 5, 6], [7, 8, 9], [10, 11, 12]]"
      ]
     },
     "execution_count": 79,
     "metadata": {},
     "output_type": "execute_result"
    }
   ],
   "source": [
    "b=[[1, 2, 3], [4, 5, 6], [7, 8, 9], [10, 11, 12]]\n",
    "b"
   ]
  },
  {
   "cell_type": "code",
   "execution_count": 85,
   "id": "35e8ec9a-34d9-4e3a-8127-a975c69472eb",
   "metadata": {},
   "outputs": [
    {
     "data": {
      "text/plain": [
       "[[7, 8, 9]]"
      ]
     },
     "execution_count": 85,
     "metadata": {},
     "output_type": "execute_result"
    }
   ],
   "source": [
    "# 리스트는 슬라이싱의 결과가 원하는 대로 잘 나오지 않는다...\n",
    "b[:3][2:]"
   ]
  },
  {
   "cell_type": "code",
   "execution_count": 87,
   "id": "1557cd7e-f17d-4026-a3fc-6b2178db8b9b",
   "metadata": {},
   "outputs": [
    {
     "data": {
      "text/plain": [
       "array([[ 1,  2,  3],\n",
       "       [ 4,  5,  6],\n",
       "       [ 7,  8,  9],\n",
       "       [10, 11, 12]])"
      ]
     },
     "execution_count": 87,
     "metadata": {},
     "output_type": "execute_result"
    }
   ],
   "source": [
    "arr=np.array(b)\n",
    "arr"
   ]
  },
  {
   "cell_type": "code",
   "execution_count": 92,
   "id": "36fff3f7-ff0c-4a45-8e46-85cd28341b74",
   "metadata": {},
   "outputs": [
    {
     "name": "stdout",
     "output_type": "stream",
     "text": [
      "5 5\n"
     ]
    }
   ],
   "source": [
    "print(arr[1,1], arr[1][1])"
   ]
  },
  {
   "cell_type": "code",
   "execution_count": 93,
   "id": "1b1e9f93-08c4-435a-8bee-b9ccef98af40",
   "metadata": {},
   "outputs": [
    {
     "data": {
      "text/plain": [
       "array([ 2,  5,  8, 11])"
      ]
     },
     "execution_count": 93,
     "metadata": {},
     "output_type": "execute_result"
    }
   ],
   "source": [
    "arr[:,1]"
   ]
  },
  {
   "cell_type": "code",
   "execution_count": 94,
   "id": "a5e80e01-27a4-4301-b523-4b9bab8dea3b",
   "metadata": {},
   "outputs": [
    {
     "data": {
      "text/plain": [
       "array([3, 9])"
      ]
     },
     "execution_count": 94,
     "metadata": {},
     "output_type": "execute_result"
    }
   ],
   "source": [
    "arr[::2,2]\n",
    "# 모든 행 중에서 2단계의 행만 선택하며 그 행의 3열 선택."
   ]
  },
  {
   "cell_type": "code",
   "execution_count": 95,
   "id": "2a9814e3-0baa-47d0-b6c8-560807f11804",
   "metadata": {},
   "outputs": [
    {
     "name": "stdout",
     "output_type": "stream",
     "text": [
      "[[1, 2, 3], [4, 5, 6], [7, 8, 9], [10, 11, 12]]\n",
      "[[11 12 13]\n",
      " [14 15 16]\n",
      " [17 18 19]\n",
      " [20 21 22]]\n",
      "[[ 2  4  6]\n",
      " [ 8 10 12]\n",
      " [14 16 18]\n",
      " [20 22 24]]\n"
     ]
    }
   ],
   "source": [
    "print(b)\n",
    "#print(b+10)\n",
    "print(arr+10)\n",
    "print(arr*2)"
   ]
  },
  {
   "cell_type": "code",
   "execution_count": 97,
   "id": "c375be90-4dca-499b-b15a-e40f921518b8",
   "metadata": {},
   "outputs": [],
   "source": [
    "x=np.array([1,2,3,4])\n",
    "y=np.array([5,6,7,8])"
   ]
  },
  {
   "cell_type": "code",
   "execution_count": 100,
   "id": "5ec2b70c-6c80-45d0-a5b2-fd27d10b98d5",
   "metadata": {},
   "outputs": [
    {
     "name": "stdout",
     "output_type": "stream",
     "text": [
      "[ 6  8 10 12]\n",
      "[ 5 12 21 32]\n",
      "[-4 -4 -4 -4]\n",
      "[0.2        0.33333333 0.42857143 0.5       ]\n",
      "[0 0 0 0]\n",
      "[1 2 3 4]\n"
     ]
    }
   ],
   "source": [
    "print(x+y)\n",
    "print(x*y)\n",
    "print(x-y)\n",
    "print(x/y)\n",
    "print(x//y)\n",
    "print(x%y)"
   ]
  },
  {
   "cell_type": "code",
   "execution_count": 101,
   "id": "80841e53-0393-4254-8ebe-2bd89a80d612",
   "metadata": {},
   "outputs": [
    {
     "data": {
      "text/plain": [
       "array([[ 1,  2,  3],\n",
       "       [ 4,  5,  6],\n",
       "       [ 7,  8,  9],\n",
       "       [10, 11, 12]])"
      ]
     },
     "execution_count": 101,
     "metadata": {},
     "output_type": "execute_result"
    }
   ],
   "source": [
    "arr"
   ]
  },
  {
   "cell_type": "code",
   "execution_count": 109,
   "id": "64e46a52-c5d3-48d7-8565-a06d445a669c",
   "metadata": {},
   "outputs": [
    {
     "name": "stdout",
     "output_type": "stream",
     "text": [
      "78 78\n",
      "6.5 6.5\n",
      "[[1.         1.41421356 1.73205081]\n",
      " [2.         2.23606798 2.44948974]\n",
      " [2.64575131 2.82842712 3.        ]\n",
      " [3.16227766 3.31662479 3.46410162]]\n"
     ]
    }
   ],
   "source": [
    "print(arr.sum(), np.sum(arr))\n",
    "print(arr.mean(), np.mean(arr))\n",
    "print(np.sqrt(arr))"
   ]
  },
  {
   "cell_type": "code",
   "execution_count": 110,
   "id": "cc384da0-5b2a-4cb7-9eb3-eb2419540084",
   "metadata": {},
   "outputs": [
    {
     "data": {
      "text/plain": [
       "array([[ 1,  2,  3],\n",
       "       [ 4,  5,  6],\n",
       "       [ 7,  8,  9],\n",
       "       [10, 11, 12]])"
      ]
     },
     "execution_count": 110,
     "metadata": {},
     "output_type": "execute_result"
    }
   ],
   "source": [
    "arr"
   ]
  },
  {
   "cell_type": "code",
   "execution_count": 113,
   "id": "abe076f0-c06c-49da-b34d-b81ca97b2c38",
   "metadata": {},
   "outputs": [
    {
     "name": "stdout",
     "output_type": "stream",
     "text": [
      "[22 26 30]\n",
      "[ 6 15 24 33]\n",
      "[5.5 6.5 7.5]\n",
      "[ 2.  5.  8. 11.]\n"
     ]
    }
   ],
   "source": [
    "print(np.sum(arr,axis=0))\n",
    "print(np.sum(arr,axis=1))\n",
    "print(np.mean(arr,axis=0))\n",
    "print(np.mean(arr,axis=1))"
   ]
  },
  {
   "cell_type": "code",
   "execution_count": 115,
   "id": "ac1c6aa4-f954-440b-9c42-8397e06df512",
   "metadata": {},
   "outputs": [
    {
     "data": {
      "text/plain": [
       "array([[3, 2, 5],\n",
       "       [5, 6, 2],\n",
       "       [9, 3, 7]])"
      ]
     },
     "execution_count": 115,
     "metadata": {},
     "output_type": "execute_result"
    }
   ],
   "source": [
    "list_a=[3,2,5],[5,6,2],[9,3,7]\n",
    "arr2=np.array(list_a)\n",
    "arr2"
   ]
  },
  {
   "cell_type": "code",
   "execution_count": 116,
   "id": "5b0d119e-31d0-4928-ae0d-bbc0dddfde23",
   "metadata": {},
   "outputs": [
    {
     "data": {
      "text/plain": [
       "array([[2, 3, 5],\n",
       "       [2, 5, 6],\n",
       "       [3, 7, 9]])"
      ]
     },
     "execution_count": 116,
     "metadata": {},
     "output_type": "execute_result"
    }
   ],
   "source": [
    "np.sort(arr2)"
   ]
  },
  {
   "cell_type": "code",
   "execution_count": 120,
   "id": "5c5e5b0d-c8d1-4ff2-90a7-c55068972d7d",
   "metadata": {},
   "outputs": [
    {
     "name": "stdout",
     "output_type": "stream",
     "text": [
      "[[2 3 5]\n",
      " [2 5 6]\n",
      " [3 7 9]]\n",
      "[[3 2 2]\n",
      " [5 3 5]\n",
      " [9 6 7]]\n"
     ]
    }
   ],
   "source": [
    "print(np.sort(arr2, axis=1))\n",
    "print(np.sort(arr2, axis=1))[::-1]\n",
    "print(np.sort(arr2, axis=0))\n",
    "print(np.sort(arr2, axis=0))[::-1]\n",
    "# 행 기준의 정렬에서는 역순이 적용되지 않는다. "
   ]
  },
  {
   "cell_type": "code",
   "execution_count": 122,
   "id": "6ce9c2f7-0fd5-4159-875c-e90bff39ec38",
   "metadata": {},
   "outputs": [
    {
     "name": "stdout",
     "output_type": "stream",
     "text": [
      "[[3 2 5]\n",
      " [5 6 2]\n",
      " [9 3 7]]\n",
      "[[3 5 9]\n",
      " [2 6 3]\n",
      " [5 2 7]]\n"
     ]
    }
   ],
   "source": [
    "# 전치행렬\n",
    "print(arr2)\n",
    "print(arr2.transpose())"
   ]
  },
  {
   "cell_type": "code",
   "execution_count": 126,
   "id": "b6855762-f6ad-43b7-8b12-491b5d914be0",
   "metadata": {},
   "outputs": [
    {
     "name": "stdout",
     "output_type": "stream",
     "text": [
      "['가' '나' '다']\n",
      "3\n"
     ]
    }
   ],
   "source": [
    "names=np.array([\"가\",\"나\",\"다\",\"가\"])\n",
    "print(np.unique(names))\n",
    "print(len(np.unique(names)))"
   ]
  },
  {
   "cell_type": "code",
   "execution_count": 131,
   "id": "56ea8841-3297-4a26-a26a-78b168a36e0d",
   "metadata": {},
   "outputs": [
    {
     "name": "stdout",
     "output_type": "stream",
     "text": [
      "[[3 2 5]\n",
      " [5 6 2]\n",
      " [9 3 7]]\n",
      "[[False False False]\n",
      " [False  True False]\n",
      " [ True False  True]]\n",
      "False\n",
      "True\n"
     ]
    }
   ],
   "source": [
    "print(arr2)\n",
    "print(arr2>5)\n",
    "print(np.all(arr2>5))\n",
    "print(np.any(arr2>5))"
   ]
  },
  {
   "cell_type": "code",
   "execution_count": 145,
   "id": "23df370f-ec4a-4c66-9420-51b9d2e8134e",
   "metadata": {},
   "outputs": [
    {
     "name": "stdout",
     "output_type": "stream",
     "text": [
      "[  0.  10.  20.  30.  40.  50.  60.  70.  80.  90. 100.]\n",
      "(array([ 0.,  5., 10., 15.]), 5.0)\n",
      "[ 0.    3.75  7.5  11.25]\n",
      "[ 10.          21.5443469   46.41588834 100.        ]\n"
     ]
    }
   ],
   "source": [
    "print(np.linspace(0, 100, 11))\n",
    "#  시작값, 종료값, 생성 갯수\n",
    "print(np.linspace(0,15,4, retstep=True))\n",
    "# 각 값의 간격을 확인. \n",
    "print(np.linspace(0,15,4, endpoint=False))\n",
    "print(np.logspace(1,2,4))"
   ]
  },
  {
   "cell_type": "code",
   "execution_count": 147,
   "id": "735e2d78-a0c4-4f01-9947-e01f75dc83bd",
   "metadata": {},
   "outputs": [
    {
     "data": {
      "text/plain": [
       "array([[        1,      1193,         5, 978300760],\n",
       "       [        1,       661,         3, 978302109],\n",
       "       [        1,       914,         3, 978301968],\n",
       "       [        1,      3408,         4, 978300275],\n",
       "       [        1,      2355,         5, 978824291],\n",
       "       [        1,      1197,         3, 978302268],\n",
       "       [        1,      1287,         5, 978302039],\n",
       "       [        1,      2804,         5, 978300719],\n",
       "       [        1,       594,         4, 978302268],\n",
       "       [        1,       919,         4, 978301368]], dtype=int64)"
      ]
     },
     "execution_count": 147,
     "metadata": {},
     "output_type": "execute_result"
    }
   ],
   "source": [
    "data=np.loadtxt(\"C:/WorkSpace_G/python_work/miningData/ml-1m/ratings.dat\",delimiter=\"::\", dtype=np.int64)\n",
    "data[:10]"
   ]
  },
  {
   "cell_type": "code",
   "execution_count": 148,
   "id": "b6d42cba-6e8d-4305-b96d-67b20aca1cd0",
   "metadata": {},
   "outputs": [
    {
     "data": {
      "text/plain": [
       "(1000209, 4)"
      ]
     },
     "execution_count": 148,
     "metadata": {},
     "output_type": "execute_result"
    }
   ],
   "source": [
    "data.shape"
   ]
  },
  {
   "cell_type": "code",
   "execution_count": 150,
   "id": "a4b578fd-4304-49d6-9f24-cbc5c222dbca",
   "metadata": {},
   "outputs": [
    {
     "name": "stdout",
     "output_type": "stream",
     "text": [
      "3.581564453029317\n",
      "3.581564453029317\n"
     ]
    }
   ],
   "source": [
    "mean_rating_total=data[:,2].mean()\n",
    "print(mean_rating_total)\n",
    "print(np.mean(data[:,2]))"
   ]
  },
  {
   "cell_type": "code",
   "execution_count": 152,
   "id": "6d3c776b-fbce-4aed-8d93-06b7bd1ddf4a",
   "metadata": {},
   "outputs": [
    {
     "data": {
      "text/plain": [
       "(6040,)"
      ]
     },
     "execution_count": 152,
     "metadata": {},
     "output_type": "execute_result"
    }
   ],
   "source": [
    "user_ids=np.unique(data[:,0])\n",
    "user_ids.shape"
   ]
  },
  {
   "cell_type": "code",
   "execution_count": 157,
   "id": "5348b704-24ab-4d79-876a-de699bc1e493",
   "metadata": {},
   "outputs": [],
   "source": [
    "mean_values=[]\n",
    "for user_id in user_ids:\n",
    "    data_for_user=data[data[:,0]==user_id,:]\n",
    "    value=data_for_user[:,2].mean()\n",
    "    mean_values.append([user_id,value])"
   ]
  },
  {
   "cell_type": "code",
   "execution_count": 158,
   "id": "08ce921e-e890-4bf4-87dc-97f8d90ed07e",
   "metadata": {},
   "outputs": [
    {
     "data": {
      "text/plain": [
       "[[1, 4.188679245283019],\n",
       " [2, 3.7131782945736433],\n",
       " [3, 3.9019607843137254],\n",
       " [4, 4.190476190476191],\n",
       " [5, 3.1464646464646466],\n",
       " [6, 3.9014084507042255],\n",
       " [7, 4.32258064516129],\n",
       " [8, 3.884892086330935],\n",
       " [9, 3.7358490566037736],\n",
       " [10, 4.114713216957606]]"
      ]
     },
     "execution_count": 158,
     "metadata": {},
     "output_type": "execute_result"
    }
   ],
   "source": [
    "mean_values[:10]"
   ]
  },
  {
   "cell_type": "code",
   "execution_count": null,
   "id": "f3cd3c06-5c65-4ba5-85a8-1ced3cc1b03d",
   "metadata": {},
   "outputs": [],
   "source": []
  },
  {
   "cell_type": "code",
   "execution_count": null,
   "id": "89cf9c8e-aebb-4f1d-9267-1dd4857fc1cd",
   "metadata": {},
   "outputs": [],
   "source": []
  },
  {
   "cell_type": "code",
   "execution_count": null,
   "id": "078eafc1-4d20-4098-98b1-4d5a2cbecab8",
   "metadata": {},
   "outputs": [],
   "source": []
  },
  {
   "cell_type": "code",
   "execution_count": null,
   "id": "f3a86a7d-be85-44c0-86ba-4f8c9056b228",
   "metadata": {},
   "outputs": [],
   "source": []
  },
  {
   "cell_type": "code",
   "execution_count": null,
   "id": "4c0b5f99-6bc0-437e-a163-1d614cb58b09",
   "metadata": {},
   "outputs": [],
   "source": []
  },
  {
   "cell_type": "code",
   "execution_count": null,
   "id": "d98964d8-9a43-4bb5-8871-a2322ad07cb2",
   "metadata": {},
   "outputs": [],
   "source": []
  }
 ],
 "metadata": {
  "kernelspec": {
   "display_name": "Python 3",
   "language": "python",
   "name": "python3"
  },
  "language_info": {
   "codemirror_mode": {
    "name": "ipython",
    "version": 3
   },
   "file_extension": ".py",
   "mimetype": "text/x-python",
   "name": "python",
   "nbconvert_exporter": "python",
   "pygments_lexer": "ipython3",
   "version": "3.8.8"
  }
 },
 "nbformat": 4,
 "nbformat_minor": 5
}
