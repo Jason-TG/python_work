{
 "cells": [
  {
   "cell_type": "code",
   "execution_count": null,
   "id": "3bb2fb4f-ad42-41ba-a316-1c573aac292e",
   "metadata": {},
   "outputs": [],
   "source": [
    "# 파이썬 객체 지향 프로그래밍"
   ]
  },
  {
   "cell_type": "code",
   "execution_count": null,
   "id": "e8ebb235-7886-4023-b253-e79ef0a850f2",
   "metadata": {},
   "outputs": [],
   "source": []
  },
  {
   "cell_type": "code",
   "execution_count": 20,
   "id": "92b94f8f-8675-4290-9de7-91d2049a4cac",
   "metadata": {},
   "outputs": [],
   "source": [
    "class SoccerPlayer(object):\n",
    "    def __init__(self, name, position, back_number):\n",
    "        self.__name=name\n",
    "        # 생성자에서 멤버변수 앞에 __를 붙여주면 private 접근제어자의 역할을 한다. \n",
    "        self.position=position\n",
    "        self.back_number=back_number\n",
    "        \n",
    "    def change_back_number(self, new_number):\n",
    "        print(\"선수의 등번호를 변경한다. : From %d to %d\" %(self.back_number, new_number))\n",
    "        self.back_number=new_number\n",
    "        \n",
    "    def __str__(self):\n",
    "        return \"Hellow, My name is %s. I play in %s on field. back_number is %d\" %(self.__name, self.position, self.back_number)"
   ]
  },
  {
   "cell_type": "code",
   "execution_count": 22,
   "id": "3d5769e7-f4e2-4866-ae31-30d9635a1d4d",
   "metadata": {},
   "outputs": [
    {
     "name": "stdout",
     "output_type": "stream",
     "text": [
      "Hellow, My name is Jinhyun. I play in MF on field. back_number is 10\n"
     ]
    }
   ],
   "source": [
    "jinhyun=SoccerPlayer('Jinhyun', \"MF\", 10)\n",
    "print(jinhyun)"
   ]
  },
  {
   "cell_type": "code",
   "execution_count": 18,
   "id": "07d21bcb-2ef9-4e74-accf-8e0e0ec98f3a",
   "metadata": {},
   "outputs": [
    {
     "name": "stdout",
     "output_type": "stream",
     "text": [
      "현재 선수의 등번호는 10 번 입니다.\n"
     ]
    }
   ],
   "source": [
    "print(\"현재 선수의 등번호는\", jinhyun.back_number, \"번 입니다.\")"
   ]
  },
  {
   "cell_type": "code",
   "execution_count": 23,
   "id": "dcb10bef-74c0-41b3-9d8e-48d1a4456b4f",
   "metadata": {},
   "outputs": [
    {
     "name": "stdout",
     "output_type": "stream",
     "text": [
      "선수의 등번호를 변경한다. : From 10 to 15\n",
      "Hellow, My name is Jinhyun. I play in MF on field. back_number is 15\n"
     ]
    }
   ],
   "source": [
    "jinhyun.change_back_number(15)\n",
    "print(jinhyun)"
   ]
  },
  {
   "cell_type": "code",
   "execution_count": 36,
   "id": "a53e779f-e6ab-45d0-8b58-457575521a35",
   "metadata": {},
   "outputs": [],
   "source": [
    "class Student(object):\n",
    "    def __init__(self, name, sno, majro):\n",
    "        self.__name=name\n",
    "        self.__sno=sno\n",
    "        self.__majro=majro\n",
    "        \n",
    "    def __str__(self):\n",
    "        return \"이름은 {}이고, 학번은 {}번이며 전공은 {}입니다\".format(self.__name, self.__sno, self.__majro)"
   ]
  },
  {
   "cell_type": "code",
   "execution_count": 37,
   "id": "2f80485b-6459-4179-a75d-b69594197c14",
   "metadata": {},
   "outputs": [
    {
     "name": "stdout",
     "output_type": "stream",
     "text": [
      "이름은 홍길동이고, 학번은 1번이며 전공은 컴공입니다\n"
     ]
    }
   ],
   "source": [
    "sdt1 = Student(\"홍길동\", 1, \"컴공\")\n",
    "print(sdt1)"
   ]
  },
  {
   "cell_type": "code",
   "execution_count": null,
   "id": "27eb0384-a061-40ab-a987-a774c21c8964",
   "metadata": {},
   "outputs": [],
   "source": []
  }
 ],
 "metadata": {
  "kernelspec": {
   "display_name": "Python 3",
   "language": "python",
   "name": "python3"
  },
  "language_info": {
   "codemirror_mode": {
    "name": "ipython",
    "version": 3
   },
   "file_extension": ".py",
   "mimetype": "text/x-python",
   "name": "python",
   "nbconvert_exporter": "python",
   "pygments_lexer": "ipython3",
   "version": "3.8.8"
  }
 },
 "nbformat": 4,
 "nbformat_minor": 5
}
