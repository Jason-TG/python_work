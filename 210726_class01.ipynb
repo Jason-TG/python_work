{
 "cells": [
  {
   "cell_type": "code",
   "execution_count": 6,
   "id": "41da7da6-6eef-40fd-9699-61ae92b71bb0",
   "metadata": {},
   "outputs": [
    {
     "ename": "SyntaxError",
     "evalue": "invalid syntax (<ipython-input-6-f500bc36afa1>, line 5)",
     "output_type": "error",
     "traceback": [
      "\u001b[1;36m  File \u001b[1;32m\"<ipython-input-6-f500bc36afa1>\"\u001b[1;36m, line \u001b[1;32m5\u001b[0m\n\u001b[1;33m    print some(name=\"홍길동\", age=20)\u001b[0m\n\u001b[1;37m          ^\u001b[0m\n\u001b[1;31mSyntaxError\u001b[0m\u001b[1;31m:\u001b[0m invalid syntax\n"
     ]
    }
   ],
   "source": [
    "def print_some(age, name='홍길동') :\n",
    "    print(\"나이는 {0}이고 이름은 {1}입니다\".format(age, name))\n",
    "\n",
    "print_some(20, \"홍길동\")\n",
    "print some(name=\"홍길동\", age=20)"
   ]
  },
  {
   "cell_type": "code",
   "execution_count": 7,
   "id": "39a7ccc2-4677-4510-a37f-3dedcb53326c",
   "metadata": {},
   "outputs": [
    {
     "ename": "SyntaxError",
     "evalue": "invalid syntax (<ipython-input-7-4795a32e5676>, line 2)",
     "output_type": "error",
     "traceback": [
      "\u001b[1;36m  File \u001b[1;32m\"<ipython-input-7-4795a32e5676>\"\u001b[1;36m, line \u001b[1;32m2\u001b[0m\n\u001b[1;33m    ptrint(\"나이는 [0]이고, 이르ㅓㅁ은(1)\")입니다\u001b[0m\n\u001b[1;37m                                 ^\u001b[0m\n\u001b[1;31mSyntaxError\u001b[0m\u001b[1;31m:\u001b[0m invalid syntax\n"
     ]
    }
   ],
   "source": [
    "def print_some(age, name='홍길동'):\n",
    "    ptrint(\"나이는 [0]이고, 이름은(1)\")입니다\".format(age, name)"
   ]
  },
  {
   "cell_type": "code",
   "execution_count": 9,
   "id": "a3dbe5d7-0b7d-456b-9015-67650830f1b7",
   "metadata": {},
   "outputs": [
    {
     "ename": "SyntaxError",
     "evalue": "invalid syntax (<ipython-input-9-81fee460ed69>, line 2)",
     "output_type": "error",
     "traceback": [
      "\u001b[1;36m  File \u001b[1;32m\"<ipython-input-9-81fee460ed69>\"\u001b[1;36m, line \u001b[1;32m2\u001b[0m\n\u001b[1;33m    print(a, ge args)\u001b[0m\n\u001b[1;37m                ^\u001b[0m\n\u001b[1;31mSyntaxError\u001b[0m\u001b[1;31m:\u001b[0m invalid syntax\n"
     ]
    }
   ],
   "source": [
    "def func(a, b, *args):\n",
    "    print(a, ge args)\n",
    "    print (a, g, *Args)\n",
    "    \n",
    "    func(1,2,3)\n",
    "    func(1,2,3,4,)\n",
    "    func(1,2,3,4,5)\n",
    "    "
   ]
  },
  {
   "cell_type": "code",
   "execution_count": 8,
   "id": "fa93105c-07c8-45f9-a278-6af60f8a7ca6",
   "metadata": {},
   "outputs": [
    {
     "ename": "SyntaxError",
     "evalue": "unexpected EOF while parsing (<ipython-input-8-4c416651ea62>, line 2)",
     "output_type": "error",
     "traceback": [
      "\u001b[1;36m  File \u001b[1;32m\"<ipython-input-8-4c416651ea62>\"\u001b[1;36m, line \u001b[1;32m2\u001b[0m\n\u001b[1;33m    \u001b[0m\n\u001b[1;37m    ^\u001b[0m\n\u001b[1;31mSyntaxError\u001b[0m\u001b[1;31m:\u001b[0m unexpected EOF while parsing\n"
     ]
    }
   ],
   "source": [
    "def func1(*args):\n",
    "    print(args)\n",
    "    a, b, *c, = args\n",
    "    print(a,b,c,args)\n",
    "    \n",
    "func1(1,2,3,)\n",
    "fucc\n",
    "    "
   ]
  },
  {
   "cell_type": "code",
   "execution_count": 11,
   "id": "e1e4c938-6796-465d-a358-755c4cc19be8",
   "metadata": {},
   "outputs": [
    {
     "name": "stdout",
     "output_type": "stream",
     "text": [
      "{'name': '홍길동', 'gender': '남', 'age': 20}\n",
      "이름은 홍길동이고, 나이는 20, 성별은 남입니다.\n",
      "{'name': '홍길동', 'age': 20}\n"
     ]
    },
    {
     "ename": "KeyError",
     "evalue": "'gender'",
     "output_type": "error",
     "traceback": [
      "\u001b[1;31m---------------------------------------------------------------------------\u001b[0m",
      "\u001b[1;31mKeyError\u001b[0m                                  Traceback (most recent call last)",
      "\u001b[1;32m<ipython-input-11-c2c76f91501c>\u001b[0m in \u001b[0;36m<module>\u001b[1;34m\u001b[0m\n\u001b[0;32m      3\u001b[0m     \u001b[0mprint\u001b[0m\u001b[1;33m(\u001b[0m\u001b[1;34m\"이름은 {name}이고, 나이는 {age}, 성별은 {gender}입니다.\"\u001b[0m\u001b[1;33m.\u001b[0m\u001b[0mformat\u001b[0m\u001b[1;33m(\u001b[0m\u001b[1;33m**\u001b[0m\u001b[0mkwargs\u001b[0m\u001b[1;33m)\u001b[0m\u001b[1;33m)\u001b[0m\u001b[1;33m\u001b[0m\u001b[1;33m\u001b[0m\u001b[0m\n\u001b[0;32m      4\u001b[0m \u001b[0mkwargs_test\u001b[0m\u001b[1;33m(\u001b[0m\u001b[0mname\u001b[0m\u001b[1;33m=\u001b[0m\u001b[1;34m\"홍길동\"\u001b[0m\u001b[1;33m,\u001b[0m \u001b[0mgender\u001b[0m\u001b[1;33m=\u001b[0m\u001b[1;34m\"남\"\u001b[0m\u001b[1;33m,\u001b[0m \u001b[0mage\u001b[0m\u001b[1;33m=\u001b[0m\u001b[1;36m20\u001b[0m\u001b[1;33m)\u001b[0m\u001b[1;33m\u001b[0m\u001b[1;33m\u001b[0m\u001b[0m\n\u001b[1;32m----> 5\u001b[1;33m \u001b[0mkwargs_test\u001b[0m\u001b[1;33m(\u001b[0m\u001b[0mname\u001b[0m\u001b[1;33m=\u001b[0m\u001b[1;34m\"홍길동\"\u001b[0m\u001b[1;33m,\u001b[0m \u001b[0mage\u001b[0m\u001b[1;33m=\u001b[0m\u001b[1;36m20\u001b[0m\u001b[1;33m)\u001b[0m\u001b[1;33m\u001b[0m\u001b[1;33m\u001b[0m\u001b[0m\n\u001b[0m\u001b[0;32m      6\u001b[0m \u001b[0mkwargs_test\u001b[0m\u001b[1;33m(\u001b[0m\u001b[0mname\u001b[0m\u001b[1;33m=\u001b[0m\u001b[1;34m\"홍길동\"\u001b[0m\u001b[1;33m)\u001b[0m\u001b[1;33m\u001b[0m\u001b[1;33m\u001b[0m\u001b[0m\n",
      "\u001b[1;32m<ipython-input-11-c2c76f91501c>\u001b[0m in \u001b[0;36mkwargs_test\u001b[1;34m(**kwargs)\u001b[0m\n\u001b[0;32m      1\u001b[0m \u001b[1;32mdef\u001b[0m \u001b[0mkwargs_test\u001b[0m\u001b[1;33m(\u001b[0m\u001b[1;33m**\u001b[0m\u001b[0mkwargs\u001b[0m\u001b[1;33m)\u001b[0m\u001b[1;33m:\u001b[0m\u001b[1;33m\u001b[0m\u001b[1;33m\u001b[0m\u001b[0m\n\u001b[0;32m      2\u001b[0m     \u001b[0mprint\u001b[0m\u001b[1;33m(\u001b[0m\u001b[0mkwargs\u001b[0m\u001b[1;33m)\u001b[0m\u001b[1;33m\u001b[0m\u001b[1;33m\u001b[0m\u001b[0m\n\u001b[1;32m----> 3\u001b[1;33m     \u001b[0mprint\u001b[0m\u001b[1;33m(\u001b[0m\u001b[1;34m\"이름은 {name}이고, 나이는 {age}, 성별은 {gender}입니다.\"\u001b[0m\u001b[1;33m.\u001b[0m\u001b[0mformat\u001b[0m\u001b[1;33m(\u001b[0m\u001b[1;33m**\u001b[0m\u001b[0mkwargs\u001b[0m\u001b[1;33m)\u001b[0m\u001b[1;33m)\u001b[0m\u001b[1;33m\u001b[0m\u001b[1;33m\u001b[0m\u001b[0m\n\u001b[0m\u001b[0;32m      4\u001b[0m \u001b[0mkwargs_test\u001b[0m\u001b[1;33m(\u001b[0m\u001b[0mname\u001b[0m\u001b[1;33m=\u001b[0m\u001b[1;34m\"홍길동\"\u001b[0m\u001b[1;33m,\u001b[0m \u001b[0mgender\u001b[0m\u001b[1;33m=\u001b[0m\u001b[1;34m\"남\"\u001b[0m\u001b[1;33m,\u001b[0m \u001b[0mage\u001b[0m\u001b[1;33m=\u001b[0m\u001b[1;36m20\u001b[0m\u001b[1;33m)\u001b[0m\u001b[1;33m\u001b[0m\u001b[1;33m\u001b[0m\u001b[0m\n\u001b[0;32m      5\u001b[0m \u001b[0mkwargs_test\u001b[0m\u001b[1;33m(\u001b[0m\u001b[0mname\u001b[0m\u001b[1;33m=\u001b[0m\u001b[1;34m\"홍길동\"\u001b[0m\u001b[1;33m,\u001b[0m \u001b[0mage\u001b[0m\u001b[1;33m=\u001b[0m\u001b[1;36m20\u001b[0m\u001b[1;33m)\u001b[0m\u001b[1;33m\u001b[0m\u001b[1;33m\u001b[0m\u001b[0m\n",
      "\u001b[1;31mKeyError\u001b[0m: 'gender'"
     ]
    }
   ],
   "source": [
    "def kwargs_test(**kwargs):\n",
    "    print(kwargs)\n",
    "    print(\"이름은 {name}이고, 나이는 {age}, 성별은 {gender}입니다.\".format(**kwargs))\n",
    "kwargs_test(name=\"홍길동\", gender=\"남\", age=20)\n",
    "kwargs_test(name=\"홍길동\", age=20)\n",
    "kwargs_test(name=\"홍길동\")"
   ]
  },
  {
   "cell_type": "code",
   "execution_count": 12,
   "id": "f2e712ae-aad9-4ccc-8d25-274dfd30e834",
   "metadata": {},
   "outputs": [
    {
     "name": "stdout",
     "output_type": "stream",
     "text": [
      "pyth\n"
     ]
    }
   ],
   "source": [
    "a=\"python programming\"\n",
    "print(a[0:4])"
   ]
  },
  {
   "cell_type": "code",
   "execution_count": 16,
   "id": "bcfe6f8a-dc07-4b8c-93f3-f45d0dd5304e",
   "metadata": {},
   "outputs": [
    {
     "data": {
      "text/plain": [
       "('python programming', 'ython programming', 'pytho')"
      ]
     },
     "execution_count": 16,
     "metadata": {},
     "output_type": "execute_result"
    }
   ],
   "source": [
    "a[:], a[1:], a[:5]"
   ]
  },
  {
   "cell_type": "code",
   "execution_count": 17,
   "id": "e0b198d5-9811-43db-b50f-48041006df59",
   "metadata": {},
   "outputs": [
    {
     "data": {
      "text/plain": [
       "'gnimmargorp nohtyp'"
      ]
     },
     "execution_count": 17,
     "metadata": {},
     "output_type": "execute_result"
    }
   ],
   "source": [
    "a[::-1]"
   ]
  },
  {
   "cell_type": "code",
   "execution_count": 23,
   "id": "2b450480-4815-4fe3-b70b-acbdcc3bdb6f",
   "metadata": {},
   "outputs": [
    {
     "name": "stdout",
     "output_type": "stream",
     "text": [
      "python programmingbigdata\n",
      "python programmingpython programming\n",
      "python programmingpython programming bigdatabigdata\n",
      "True\n"
     ]
    }
   ],
   "source": [
    "b=\"bigdata\"\n",
    "print(a+b), print(a*2)\n",
    "print(a*2+\" \"+b*2)\n",
    "print('a' in a)\n",
    "# 'a'라는 문자가 있는지 확인"
   ]
  },
  {
   "cell_type": "code",
   "execution_count": 24,
   "id": "25561446-eb6f-4a86-8e01-451d8eac0912",
   "metadata": {},
   "outputs": [
    {
     "name": "stdout",
     "output_type": "stream",
     "text": [
      "python programming\n"
     ]
    }
   ],
   "source": [
    "if \"python\" in a :\n",
    "    print(a)\n",
    "else : \n",
    "    print(b)"
   ]
  },
  {
   "cell_type": "code",
   "execution_count": null,
   "id": "89d5b9a9-2dc4-4558-9b17-2995899e5b28",
   "metadata": {},
   "outputs": [],
   "source": [
    "a=2\n",
    "print('결과 : ' +str(a))\n",
    "# 문자열에 숫자를 결합할 때는 숫자를 문자열로 만들어야 한다. "
   ]
  },
  {
   "cell_type": "code",
   "execution_count": 38,
   "id": "3d500bcd-c81d-42b7-ad97-55fc02602c1e",
   "metadata": {},
   "outputs": [
    {
     "name": "stdout",
     "output_type": "stream",
     "text": [
      "18\n",
      "PYTHON PROGRAMMING\n",
      "python programming\n",
      "Python Programming\n",
      "Python programming\n",
      "2\n",
      "4\n",
      "9\n",
      "False\n",
      "True\n",
      "\n"
     ]
    }
   ],
   "source": [
    "a=\"PYTHON programming\"\n",
    "print(len(a))\n",
    "print(a.upper())\n",
    "print(a.lower())\n",
    "print(a.title())\n",
    "print(a.capitalize())\n",
    "print(a.lower().count(\"o\"))\n",
    "# 메소드 체인\n",
    "print(a.lower().find(\"o\"))\n",
    "print(a.lower().rfind(\"o\"))\n",
    "print(a.startswith('py'))\n",
    "print(a.endswith('ing'))\n",
    "print()"
   ]
  },
  {
   "cell_type": "code",
   "execution_count": 45,
   "id": "7298f2cd-3cf9-42cd-bef7-32502a27e106",
   "metadata": {},
   "outputs": [
    {
     "name": "stdout",
     "output_type": "stream",
     "text": [
      " python programming \n",
      "python programming aaa\n",
      " python programming aaa\n",
      "python programming  aaa\n"
     ]
    }
   ],
   "source": [
    "a=' python programming '\n",
    "print(a)\n",
    "print(a.strip(),\"aaa\")\n",
    "# 스트립은 탭, 엔터, 스페이스 등 모든 공백을 없앤다. \n",
    "print(a.rstrip(),\"aaa\")\n",
    "print(a.lstrip(),\"aaa\")"
   ]
  },
  {
   "cell_type": "code",
   "execution_count": 46,
   "id": "6f1eab4a-d133-4a6f-aeab-70481971faef",
   "metadata": {},
   "outputs": [
    {
     "name": "stdout",
     "output_type": "stream",
     "text": [
      "['python', 'programming']\n"
     ]
    }
   ],
   "source": [
    "print(a.split())"
   ]
  },
  {
   "cell_type": "code",
   "execution_count": 47,
   "id": "f0798ed4-a708-4d20-8c67-9606a796348b",
   "metadata": {},
   "outputs": [
    {
     "name": "stdout",
     "output_type": "stream",
     "text": [
      "['가', '나', '다']\n"
     ]
    }
   ],
   "source": [
    "b='가-나-다'\n",
    "print(b.split('-'))"
   ]
  },
  {
   "cell_type": "code",
   "execution_count": 55,
   "id": "c86fb88f-7635-4dcd-b8e3-babe43fe1413",
   "metadata": {},
   "outputs": [
    {
     "name": "stdout",
     "output_type": "stream",
     "text": [
      "['Yesterday all my troubles\\n', 'seemed so far away.\\n', 'Now it looks\\n', \"as though they're here to stay.\\n\", 'Oh, I believe in yesterday.\\n', '\\n', \"Suddenly I'm not half\\n\", 'the man I used to be.\\n', \"There's a shadow hanging over me.\\n\", 'Oh, yesterday came suddenly.\\n', '\\n', 'Why she had to go,\\n', \"I don't know,\\n\", \"she wouldn't say.\\n\", 'I said something wrong,\\n', 'now I long for yesterday.\\n', '\\n', 'Yesterday love was\\n', 'such an easy game to play.\\n', 'Now I need a place to hide away.\\n', 'Oh, I believe in yesterday.\\n', '\\n', 'Why she had to go,\\n', \"I don't know,\\n\", \"she wouldn't say.\\n\", 'I said something wrong,\\n', 'now I long for yesterday.\\n', '\\n', 'Yesterday love was\\n', 'such an easy game to play.\\n', 'Now I need a place to hide away.\\n', 'Oh, I believe in yesterday.\\n', '\\n', 'Mm mm mm mm mm mm mm\\n']\n",
      "\n",
      "\n",
      "Number of the word 'yesterday' in 'yesterday' of beatles is 9\n",
      "\n"
     ]
    }
   ],
   "source": [
    "f = open(\"data/yesterday.txt\", \"r\")\n",
    "yesterday_lyric=f.readlines()\n",
    "f.close\n",
    "\n",
    "print(yesterday_lyric)\n",
    "print()\n",
    "print()\n",
    "\n",
    "contents=\"\"\n",
    "for line in yesterday_lyric:\n",
    "    contents=contents+line.strip()+\"\\n\"\n",
    "    \n",
    "n_of_yesterday=contents.upper().count(\"YESTERDAY\")\n",
    "print(\"Number of the word 'yesterday' in 'yesterday' of beatles is\", n_of_yesterday)\n",
    "print()\n"
   ]
  },
  {
   "cell_type": "code",
   "execution_count": 57,
   "id": "197b730d-e0d2-47cd-a299-3f46c231e8df",
   "metadata": {},
   "outputs": [
    {
     "name": "stdout",
     "output_type": "stream",
     "text": [
      "My name is 홍길동 and I'am 20 years old\n",
      "My name is 홍길동 and I'am 20 years old\n"
     ]
    }
   ],
   "source": [
    "name=\"홍길동\"\n",
    "age=20\n",
    "gender=\"남\"\n",
    "print(\"My name is {} and I'am {} years old\".format(name, age))\n",
    "print(\"My name is %s and I'am %d years old\" %(name, age))"
   ]
  },
  {
   "cell_type": "code",
   "execution_count": 73,
   "id": "de3d700c-69ec-4a97-afb6-b6492a0609c2",
   "metadata": {},
   "outputs": [
    {
     "name": "stdout",
     "output_type": "stream",
     "text": [
      "제품명 : apple      가격 :  5.27\n",
      "제품명 : apple      가격 :  5.27\n",
      "제품명 :      apple 가격 : 5.27      \n",
      "제품명 : apple     , 가격 : 3.5       \n"
     ]
    }
   ],
   "source": [
    "product_name='apple'\n",
    "price=5.2678\n",
    "s1=\"제품명 : %-10s 가격 : %5.2f\" %(product_name, price)\n",
    "print(s1)\n",
    "print(\"제품명 : {0:10s} 가격 : {1:5.2f}\".format(product_name, price))\n",
    "print(\"제품명 : {0:>10s} 가격 : {1:<10.2f}\".format(product_name, price))\n",
    "print(\"제품명 : {name:10s}, 가격 : {price:<10.1f}\".format(name=\"apple\", price=3.457))"
   ]
  },
  {
   "cell_type": "code",
   "execution_count": 74,
   "id": "6a605432-ff06-4752-838e-be5e46117a84",
   "metadata": {},
   "outputs": [
    {
     "name": "stdout",
     "output_type": "stream",
     "text": [
      "\n",
      "표적으로 기부금 세액공제를 꼽을 수 있다.\n",
      "\n",
      "납세자가 낸 기부금의 15%(1천만원 초과분은 30%)를 해당 과세기간에 합산과세되는 종합소득 산출세액에서 빼주는 제도다.\n",
      "\n",
      "정부는 올해에 한해 세액공제율을 5%포인트 높이기로 했다.\n",
      "\n",
      "기부금 1천만원까지는 공제율을 15%에서 20%로, 1천만원 초과분은 30%에서 35%로 높였다.\n",
      "\n",
      "\n",
      "표적으로 기부금 세액공제를 꼽을 수 있다.\n",
      "\n",
      "납세자가 낸 기부금의 15%(1천만원 초과분은 30%)를 해당 과세기간에 합산과세되는 종합소득 산출세액에서 빼주는 제도다.\n",
      "\n",
      "정부는 올해에 한해 세액공제율을 5%포인트 높이기로 했다.\n",
      "\n",
      "기부금 1천만원까지는 공제율을 15%에서 20%로, 1천만원 초과분은 30%에서 35%로 높였다.\n",
      "\n"
     ]
    }
   ],
   "source": [
    "s1=\"\"\"\n",
    "표적으로 기부금 세액공제를 꼽을 수 있다.\n",
    "\n",
    "납세자가 낸 기부금의 15%(1천만원 초과분은 30%)를 해당 과세기간에 합산과세되는 종합소득 산출세액에서 빼주는 제도다.\n",
    "\n",
    "정부는 올해에 한해 세액공제율을 5%포인트 높이기로 했다.\n",
    "\n",
    "기부금 1천만원까지는 공제율을 15%에서 20%로, 1천만원 초과분은 30%에서 35%로 높였다.\n",
    "\"\"\"\n",
    "print(s1)\n",
    "\n",
    "s2='''\n",
    "표적으로 기부금 세액공제를 꼽을 수 있다.\n",
    "\n",
    "납세자가 낸 기부금의 15%(1천만원 초과분은 30%)를 해당 과세기간에 합산과세되는 종합소득 산출세액에서 빼주는 제도다.\n",
    "\n",
    "정부는 올해에 한해 세액공제율을 5%포인트 높이기로 했다.\n",
    "\n",
    "기부금 1천만원까지는 공제율을 15%에서 20%로, 1천만원 초과분은 30%에서 35%로 높였다.\n",
    "'''\n",
    "print(s2)\n"
   ]
  },
  {
   "cell_type": "code",
   "execution_count": 78,
   "id": "3f9bfebe-112e-41e5-94cc-305f8822d81d",
   "metadata": {},
   "outputs": [
    {
     "name": "stdout",
     "output_type": "stream",
     "text": [
      "[1, 2, 3, 4, 5, 10, 20]\n",
      "20\n",
      "[1, 2, 3, 4, 5, 10]\n"
     ]
    }
   ],
   "source": [
    "a=[1,2,3,4,5]\n",
    "a.append(10)\n",
    "a.append(20)\n",
    "print(a)\n",
    "print(a.pop())\n",
    "print(a)"
   ]
  },
  {
   "cell_type": "code",
   "execution_count": 77,
   "id": "5a8f5082-3142-4e50-bf39-f3bc53ebe135",
   "metadata": {},
   "outputs": [
    {
     "name": "stdout",
     "output_type": "stream",
     "text": [
      "[1, 2, 3, 4, 5, 10, 20]\n",
      "1\n",
      "[2, 3, 4, 5, 10, 20]\n"
     ]
    }
   ],
   "source": [
    "a=[1,2,3,4,5]\n",
    "a.append(10)\n",
    "a.append(20)\n",
    "print(a)\n",
    "print(a.pop(0))\n",
    "print(a)"
   ]
  },
  {
   "cell_type": "code",
   "execution_count": 79,
   "id": "0b15380f-9c9a-4084-93ae-9ac38023ab46",
   "metadata": {},
   "outputs": [
    {
     "name": "stdout",
     "output_type": "stream",
     "text": [
      "[10, 2, 3, 4, 5, 10]\n"
     ]
    }
   ],
   "source": [
    "a[0]=10\n",
    "print(a)"
   ]
  },
  {
   "cell_type": "code",
   "execution_count": 81,
   "id": "1bbf2596-f0d1-48fb-81c6-9b6b9cff6dd8",
   "metadata": {},
   "outputs": [
    {
     "name": "stdout",
     "output_type": "stream",
     "text": [
      "1\n",
      "(1, 2, 3, 4)\n",
      "1 2 [3, 4]\n"
     ]
    }
   ],
   "source": [
    "t=(1,2,3,4)\n",
    "print(t[0])\n",
    "print(t)\n",
    "a,b,*c=t\n",
    "print(a,b,c)"
   ]
  },
  {
   "cell_type": "code",
   "execution_count": 85,
   "id": "122ec550-df3f-476a-afc5-44215b2a040f",
   "metadata": {},
   "outputs": [
    {
     "name": "stdout",
     "output_type": "stream",
     "text": [
      "['s', 't', 'a', 'r', 'w', 'a', 'r', 's', ' ', 'r', 'e', 't', 'u', 'r', 'n', ' ', 'o', 'f', ' ', 'j', 'e', 'd', 'i']\n",
      "('f', 'a', 's', 't', ' ', 'f', 'u', 'r', 'i', 'o', 'u', 's', ' ', 'u', 'l', 't', 'i', 'm', 'a', 't', 'u', 'm')\n"
     ]
    }
   ],
   "source": [
    "a=list(\"starwars return of jedi\")\n",
    "print(a)\n",
    "b=tuple(\"fast furious ultimatum\")\n",
    "print(b)"
   ]
  },
  {
   "cell_type": "code",
   "execution_count": 98,
   "id": "f67d455c-e93c-44f8-b0c1-d19ca153a419",
   "metadata": {},
   "outputs": [
    {
     "name": "stdout",
     "output_type": "stream",
     "text": [
      "{1, 2, 3, 4, 5}\n",
      "{1, 2, 3, 4, 5, 7}\n",
      "{1, 2, 3, 5, 7}\n"
     ]
    }
   ],
   "source": [
    "s=set([1,2,3,4,1,2,5,2,3,4])\n",
    "print(s)\n",
    "s.add(7)\n",
    "print(s)\n",
    "s.remove(4)\n",
    "print(s)"
   ]
  },
  {
   "cell_type": "code",
   "execution_count": 99,
   "id": "a9621a3b-dca0-4829-a299-ebfe106bb5d6",
   "metadata": {},
   "outputs": [
    {
     "name": "stdout",
     "output_type": "stream",
     "text": [
      "{1, 3, 5, 7}\n",
      "{1, 3, 5, 7, 10, 20, 30}\n"
     ]
    }
   ],
   "source": [
    "s.discard(2)\n",
    "print(s)\n",
    "s.update([10, 20, 30])\n",
    "print(s)"
   ]
  },
  {
   "cell_type": "markdown",
   "id": "c3da9342-4c6e-4c77-b764-80d4dd701440",
   "metadata": {},
   "source": [
    "주석"
   ]
  },
  {
   "cell_type": "markdown",
   "id": "0e86ac4c-ab1d-4090-ba02-641727a715d4",
   "metadata": {},
   "source": [
    "- 데이터1\n",
    "- 데이터2"
   ]
  },
  {
   "cell_type": "markdown",
   "id": "89aefab9-1ad6-491a-ade4-cbcd8b6b0eec",
   "metadata": {},
   "source": [
    "s.clear() \n",
    "print(s)"
   ]
  },
  {
   "cell_type": "code",
   "execution_count": 6,
   "id": "599ea850-302c-4921-8404-4836d7b0e1fb",
   "metadata": {},
   "outputs": [
    {
     "name": "stdout",
     "output_type": "stream",
     "text": [
      "{'홍길동': 80, '김재건': 85, '김예환': 90, '박정희': 95}\n"
     ]
    }
   ],
   "source": [
    "score={\"홍길동\":80, \"김재건\":85, \"김예환\":90, \"박정희\":95}\n",
    "print(score)"
   ]
  },
  {
   "cell_type": "code",
   "execution_count": 7,
   "id": "ff45f6bd-2fd0-43b3-883b-604b82d86295",
   "metadata": {
    "tags": []
   },
   "outputs": [
    {
     "data": {
      "text/plain": [
       "80"
      ]
     },
     "execution_count": 7,
     "metadata": {},
     "output_type": "execute_result"
    }
   ],
   "source": [
    "score['홍길동']"
   ]
  },
  {
   "cell_type": "code",
   "execution_count": 8,
   "id": "cba6ce12-db1a-47fa-9c97-e96955cd9b56",
   "metadata": {},
   "outputs": [
    {
     "name": "stdout",
     "output_type": "stream",
     "text": [
      "{'홍길동': 93, '김재건': 85, '김예환': 90, '박정희': 95}\n"
     ]
    }
   ],
   "source": [
    "score[\"홍길동\"]=93\n",
    "print(score)"
   ]
  },
  {
   "cell_type": "code",
   "execution_count": 9,
   "id": "fa1af07c-e661-4386-95bf-b2428a16ccd8",
   "metadata": {},
   "outputs": [
    {
     "name": "stdout",
     "output_type": "stream",
     "text": [
      "홍길동 93\n",
      "김재건 85\n",
      "김예환 90\n",
      "박정희 95\n"
     ]
    }
   ],
   "source": [
    "for k,v in score.items():\n",
    "    print(k,v)"
   ]
  },
  {
   "cell_type": "code",
   "execution_count": 10,
   "id": "afccc365-e798-4a4a-8c9e-693af1dbcc70",
   "metadata": {},
   "outputs": [
    {
     "name": "stdout",
     "output_type": "stream",
     "text": [
      "dict_items([('홍길동', 93), ('김재건', 85), ('김예환', 90), ('박정희', 95)])\n",
      "dict_keys(['홍길동', '김재건', '김예환', '박정희'])\n",
      "dict_values([93, 85, 90, 95])\n"
     ]
    }
   ],
   "source": [
    "print(score.items())\n",
    "print(score.keys())\n",
    "print(score.values())"
   ]
  },
  {
   "cell_type": "code",
   "execution_count": 11,
   "id": "9e8e83d8-e88a-4622-8c27-b728f302be30",
   "metadata": {},
   "outputs": [
    {
     "data": {
      "text/plain": [
       "True"
      ]
     },
     "execution_count": 11,
     "metadata": {},
     "output_type": "execute_result"
    }
   ],
   "source": [
    "'홍길동' in score.keys()"
   ]
  },
  {
   "cell_type": "code",
   "execution_count": 12,
   "id": "8d116ffe-b0b2-4c4b-8985-c6848192e385",
   "metadata": {},
   "outputs": [
    {
     "data": {
      "text/plain": [
       "False"
      ]
     },
     "execution_count": 12,
     "metadata": {},
     "output_type": "execute_result"
    }
   ],
   "source": [
    "87 in score.values()"
   ]
  },
  {
   "cell_type": "code",
   "execution_count": null,
   "id": "04914dce-4456-4904-b82c-16dfd632fa00",
   "metadata": {},
   "outputs": [],
   "source": []
  }
 ],
 "metadata": {
  "kernelspec": {
   "display_name": "Python 3",
   "language": "python",
   "name": "python3"
  },
  "language_info": {
   "codemirror_mode": {
    "name": "ipython",
    "version": 3
   },
   "file_extension": ".py",
   "mimetype": "text/x-python",
   "name": "python",
   "nbconvert_exporter": "python",
   "pygments_lexer": "ipython3",
   "version": "3.8.8"
  }
 },
 "nbformat": 4,
 "nbformat_minor": 5
}
